{
 "cells": [
  {
   "cell_type": "markdown",
   "id": "b7f85915",
   "metadata": {
    "id": "b7f85915"
   },
   "source": [
    "# Работа с ресурсами"
   ]
  },
  {
   "cell_type": "markdown",
   "source": [
    "Антонов Всеволод Владимирович\n",
    "\n",
    "---\n"
   ],
   "metadata": {
    "id": "jXrOL1YVHoL-"
   },
   "id": "jXrOL1YVHoL-"
  },
  {
   "cell_type": "markdown",
   "id": "9c7c136e",
   "metadata": {
    "id": "9c7c136e"
   },
   "source": [
    "## Порядок сдачи домашнего"
   ]
  },
  {
   "cell_type": "markdown",
   "id": "0799026a",
   "metadata": {
    "ExecuteTime": {
     "end_time": "2024-11-03T13:23:48.609956Z",
     "start_time": "2024-11-03T13:23:48.581564Z"
    },
    "id": "0799026a"
   },
   "source": [
    "Под каждое домашнее вы создаете отдельную ветку куда вносите все изменения в рамках домашнего. Как только домашнее готово - создаете пулл реквест (обратите внимание что в пулл реквесте должны быть отражены все изменения в рамках домашнего). Ревьювера назначаете из таблицы - https://docs.google.com/spreadsheets/d/1vK6IgEqaqXniUJAQOOspiL_tx3EYTSXW1cUrMHAZFr8/edit?gid=0#gid=0\n",
    "Перед сдачей проверьте код, напишите тесты. Не забудьте про PEP8, например, с помощью flake8. Задание нужно делать в jupyter notebook.\n",
    "\n",
    "**Дедлайн - 14 ноября 10:00**"
   ]
  },
  {
   "cell_type": "markdown",
   "id": "39ca02a1",
   "metadata": {
    "id": "39ca02a1"
   },
   "source": [
    "# Менеджер контекста для смены директории (cd)"
   ]
  },
  {
   "cell_type": "markdown",
   "id": "eead1ca2",
   "metadata": {
    "id": "eead1ca2"
   },
   "source": [
    "Напишите класс менеджера контекста ChangeDir, который временно меняет текущую рабочую директорию на заданную. После выхода из контекста рабочая директория должна вернуться к предыдущей.\n",
    "\n",
    "**Условия:**\n",
    "1.\tПри входе в блок with менеджер контекста должен изменить текущую директорию на указанную.\n",
    "2.\tПри выходе из блока with менеджер контекста должен вернуть рабочую директорию на исходное значение.\n",
    "3.\tОбработайте ситуацию, когда указанный путь не существует, с выводом сообщения об ошибке.\n",
    "\n",
    "**Пример:**\n",
    "\n",
    "```python\n",
    "import os\n",
    "\n",
    "print(\"Начальная директория:\", os.getcwd())\n",
    "\n",
    "with ChangeDir(\"/path/to/new/directory\"):\n",
    "    print(\"Внутри менеджера:\", os.getcwd())\n",
    "\n",
    "print(\"После выхода:\", os.getcwd())\n",
    "```"
   ]
  },
  {
   "cell_type": "code",
   "execution_count": 1,
   "id": "239b51fd",
   "metadata": {
    "colab": {
     "base_uri": "https://localhost:8080/"
    },
    "id": "239b51fd",
    "outputId": "bd3de326-d15e-46de-8c29-eb6cd33f2aae"
   },
   "outputs": [
    {
     "output_type": "stream",
     "name": "stdout",
     "text": [
      "Начальная директория: /content\n",
      "Внутри менеджера: /srv\n",
      "После выхода: /content\n"
     ]
    }
   ],
   "source": [
    "import os\n",
    "\n",
    "\n",
    "class ChangeDir:\n",
    "    def __init__(self, dir):\n",
    "        self.dir = dir\n",
    "        self.start = os.getcwd()\n",
    "\n",
    "    def __enter__(self):\n",
    "        if not os.path.isdir(self.dir):\n",
    "            raise FileNotFoundError(f\"Данная директория не существует: {self.dir}\")\n",
    "        os.chdir(self.dir)\n",
    "        return self\n",
    "\n",
    "    def __exit__(self, exc_type, exc_value, traceback):\n",
    "        os.chdir(self.start)\n",
    "\n",
    "\n",
    "print(\"Начальная директория:\", os.getcwd())\n",
    "\n",
    "try:\n",
    "    with ChangeDir(\"/srv\"):\n",
    "        print(\"Внутри менеджера:\", os.getcwd())\n",
    "except FileNotFoundError as e:\n",
    "    print(e)\n",
    "\n",
    "print(\"После выхода:\", os.getcwd())"
   ]
  },
  {
   "cell_type": "code",
   "source": [
    "print(\"Начальная директория:\", os.getcwd())\n",
    "\n",
    "try:\n",
    "    with ChangeDir(\"/srvм\"):\n",
    "        print(\"Внутри менеджера:\", os.getcwd())\n",
    "except FileNotFoundError as e:\n",
    "    print(e)\n",
    "\n",
    "print(\"После выхода:\", os.getcwd())"
   ],
   "metadata": {
    "colab": {
     "base_uri": "https://localhost:8080/"
    },
    "id": "J0iG28tTb0Lk",
    "outputId": "2dd3f726-8461-4680-9d37-52e4adccd01e"
   },
   "id": "J0iG28tTb0Lk",
   "execution_count": 2,
   "outputs": [
    {
     "output_type": "stream",
     "name": "stdout",
     "text": [
      "Начальная директория: /content\n",
      "Данная директория не существует: /srvм\n",
      "После выхода: /content\n"
     ]
    }
   ]
  },
  {
   "cell_type": "markdown",
   "id": "5addad6c",
   "metadata": {
    "id": "5addad6c"
   },
   "source": [
    "# Перенаправление вывода в файл"
   ]
  },
  {
   "cell_type": "markdown",
   "id": "4c199e6e",
   "metadata": {
    "id": "4c199e6e"
   },
   "source": [
    "Напишите класс менеджера контекста RedirectOutput, который временно перенаправляет стандартный поток вывода stdout в указанный файл. После выхода из контекста вывод должен возвращаться в стандартный поток.\n",
    "\n",
    "**Условия:**\n",
    "\n",
    "1.\tПри входе в блок with менеджер контекста должен перенаправить вывод print в файл, указанный при создании объекта.\n",
    "2.\tПри выходе из блока with вывод должен возвращаться в стандартный поток.\n",
    "3.\tЕсли файл уже существует, вывод должен дописываться к нему, а не перезаписывать его.\n",
    "\n",
    "**Пример:**\n",
    "```python\n",
    "print(\"Это стандартный вывод\")  # Должно выводиться в консоль\n",
    "\n",
    "with RedirectOutput(\"output.txt\"):\n",
    "    print(\"Это вывод в файл\")   # Должно записываться в файл \"output.txt\"\n",
    "\n",
    "print(\"Снова стандартный вывод\")  # Должно выводиться в консоль\n",
    "```\n"
   ]
  },
  {
   "cell_type": "code",
   "execution_count": 3,
   "id": "81acc7b5",
   "metadata": {
    "id": "81acc7b5"
   },
   "outputs": [],
   "source": [
    "#self.file = open(self.filename, 'a')\n",
    "#sys.stdout = self.file  # Перенаправляем stdout в файл"
   ]
  },
  {
   "cell_type": "code",
   "execution_count": 4,
   "id": "abf13f3f",
   "metadata": {
    "colab": {
     "base_uri": "https://localhost:8080/"
    },
    "id": "abf13f3f",
    "outputId": "8929dafa-8f15-44f3-98e2-53929d53ae72"
   },
   "outputs": [
    {
     "output_type": "stream",
     "name": "stdout",
     "text": [
      "Это стандартный вывод\n",
      "Снова стандартный вывод\n"
     ]
    }
   ],
   "source": [
    "import sys\n",
    "\n",
    "\n",
    "class RedirectOutput:\n",
    "    def __init__(self, filename):\n",
    "        self.filename = filename\n",
    "\n",
    "    def __enter__(self):\n",
    "        self.file = open(self.filename, 'a')\n",
    "        self.stdout = sys.stdout\n",
    "        sys.stdout = self.file\n",
    "        return self\n",
    "\n",
    "    def __exit__(self, exc_type, exc_value, traceback):\n",
    "        self.file.close()\n",
    "        sys.stdout = self.stdout\n",
    "\n",
    "\n",
    "# Пример использования\n",
    "print(\"Это стандартный вывод\")  # Должно выводиться в консоль\n",
    "\n",
    "with RedirectOutput(\"output.txt\"):\n",
    "    print(\"Это вывод в файл\")  # Должно записываться в файл \"output.txt\"\n",
    "\n",
    "print(\"Снова стандартный вывод\")  # Должно выводиться в консоль"
   ]
  },
  {
   "cell_type": "code",
   "source": [
    "with RedirectOutput(\"output.txt\"):\n",
    "    print(\"Это вывод в файл\")  # Строка должна повториться в файле \"output.txt\""
   ],
   "metadata": {
    "id": "11QlSUXoh4Jh"
   },
   "id": "11QlSUXoh4Jh",
   "execution_count": 5,
   "outputs": []
  },
  {
   "cell_type": "markdown",
   "id": "5521fc72",
   "metadata": {
    "id": "5521fc72"
   },
   "source": [
    "# Замер времени выполнения кода"
   ]
  },
  {
   "cell_type": "markdown",
   "id": "dcdd1880",
   "metadata": {
    "ExecuteTime": {
     "end_time": "2024-10-31T14:19:37.856022Z",
     "start_time": "2024-10-31T14:19:37.835554Z"
    },
    "id": "dcdd1880"
   },
   "source": [
    "Напишите класс менеджера контекста Timer, который замеряет время выполнения кода внутри блока with. Менеджер должен выводить время выполнения в консоль по завершении блока. Для замера времени используйте модуль time.\n",
    "\n",
    "**Условия:**\n",
    "1. При входе в блок with менеджер контекста должен начинать отсчёт времени.\n",
    "2. При выходе из блока with менеджер должен выводить в консоль время выполнения кода внутри блока в формате \"Время выполнения: X.XXX секунд\".\n",
    "3. Опционально: добавить возможность передавать имя таймера при инициализации, чтобы можно было различать результаты замеров, если их несколько.\n",
    "\n",
    "**Пример:**\n",
    "```python\n",
    "import time\n",
    "\n",
    "with Timer(\"Задача 1\"):\n",
    "    time.sleep(1)  # Симуляция работы кода\n",
    "[Задача 1] Время выполнения: 1.001 секунд\n",
    "    \n",
    "with Timer(\"Задача 2\"):\n",
    "    for i in range(1000000):\n",
    "        pass\n",
    "[Задача 2] Время выполнения: 0.034 секунд\n",
    "```"
   ]
  },
  {
   "cell_type": "code",
   "execution_count": 14,
   "id": "0034913b",
   "metadata": {
    "colab": {
     "base_uri": "https://localhost:8080/"
    },
    "id": "0034913b",
    "outputId": "0f234932-b2e7-4869-9fcc-9bc3dd7b4378"
   },
   "outputs": [
    {
     "output_type": "stream",
     "name": "stdout",
     "text": [
      "[Задача 1] Время выполнения: 1.000 секунд\n",
      "Время выполнения: 0.082 секунд\n"
     ]
    }
   ],
   "source": [
    "import time\n",
    "\n",
    "\n",
    "class Timer:\n",
    "    def __init__(self, task_name=None):\n",
    "        self.task_name = task_name\n",
    "\n",
    "    def __enter__(self):\n",
    "        self.start = time.time()\n",
    "        return self\n",
    "\n",
    "    def __exit__(self, exc_type, exc_value, traceback):\n",
    "        self.end = time.time()\n",
    "        if self.task_name:\n",
    "            print(f'[{self.task_name}] ', end='')\n",
    "        print(f'Время выполнения: {self.end - self.start:.3f} секунд')\n",
    "\n",
    "\n",
    "# Пример использования\n",
    "with Timer(\"Задача 1\"):\n",
    "    time.sleep(1)  # Симуляция работы кода\n",
    "\n",
    "with Timer():\n",
    "    for i in range(1000000):\n",
    "        pass"
   ]
  },
  {
   "cell_type": "markdown",
   "id": "ef8887ce",
   "metadata": {
    "id": "ef8887ce"
   },
   "source": [
    "# Поглощение исключения"
   ]
  },
  {
   "cell_type": "markdown",
   "id": "f02320f4",
   "metadata": {
    "id": "f02320f4"
   },
   "source": [
    "Напишите класс менеджера контекста SuppressExceptions, который подавляет указанные исключения внутри блока with, не прерывая выполнение программы. Если в блоке возникает исключение, которое не входит в список подавляемых, оно должно быть выброшено обычным образом.\n",
    "\n",
    "**Условия:**\n",
    "1.\tПри инициализации менеджера контекста нужно передавать типы исключений, которые будут подавляться.\n",
    "2.\tЕсли в блоке with возникает исключение из списка подавляемых, оно должно игнорироваться.\n",
    "3.\tЕсли возникает исключение, не входящее в список, оно должно быть выброшено.\n",
    "4.\tОпционально: после подавления исключения вывести сообщение о том, какое исключение было подавлено.\n",
    "\n",
    "\n",
    "**Пример:**\n",
    "```python\n",
    "with SuppressExceptions(ZeroDivisionError, ValueError):\n",
    "    print(1 / 0)  # Это исключение будет подавлено\n",
    "\n",
    "with SuppressExceptions(TypeError):\n",
    "    print(1 + \"2\")  # Это исключение будет подавлено\n",
    "\n",
    "with SuppressExceptions(IndexError):\n",
    "    print([1, 2, 3][5])  # Это исключение будет подавлено\n",
    "\n",
    "print(\"Программа продолжает работать после блока with\")\n",
    "```"
   ]
  },
  {
   "cell_type": "code",
   "execution_count": 7,
   "id": "3603cdfd",
   "metadata": {
    "colab": {
     "base_uri": "https://localhost:8080/"
    },
    "id": "3603cdfd",
    "outputId": "a4e67227-59ae-492f-df18-dd00e67e1293"
   },
   "outputs": [
    {
     "output_type": "stream",
     "name": "stdout",
     "text": [
      "Программа продолжает работать после блока with\n"
     ]
    }
   ],
   "source": [
    "class SuppressExceptions:\n",
    "    def __init__(self, *suppress_exceptions, print_msg=False):\n",
    "        self.suppress_exceptions = suppress_exceptions\n",
    "        self.print_msg = print_msg\n",
    "\n",
    "    def __enter__(self):\n",
    "        return self\n",
    "\n",
    "    def __exit__(self, exc_type, exc_value, traceback):\n",
    "        if issubclass(exc_type, self.suppress_exceptions):\n",
    "            if self.print_msg:\n",
    "                print(f\"Исключение '{exc_type.__name__}' было подавлено\")\n",
    "            return True\n",
    "\n",
    "\n",
    "# Пример использования\n",
    "with SuppressExceptions(ZeroDivisionError, ValueError):\n",
    "    print(1 / 0)  # Это исключение будет подавлено\n",
    "\n",
    "with SuppressExceptions(TypeError):\n",
    "    print(1 + \"2\")  # Это исключение будет подавлено\n",
    "\n",
    "with SuppressExceptions(IndexError):\n",
    "    print([1, 2, 3][5])  # Это исключение будет подавлено\n",
    "\n",
    "print(\"Программа продолжает работать после блока with\")"
   ]
  },
  {
   "cell_type": "code",
   "source": [
    "with SuppressExceptions(TypeError, print_msg=True):\n",
    "    print(1 + \"2\")  # Это исключение будет подавлено, будет выведено сообщение\n",
    "\n",
    "with SuppressExceptions():\n",
    "    print([1, 2, 3][5])  # Это исключение не будет подавлено"
   ],
   "metadata": {
    "colab": {
     "base_uri": "https://localhost:8080/",
     "height": 239
    },
    "id": "Ohx0Rnn_7Q2K",
    "outputId": "bf287c3a-66df-4d3a-a4a1-13bec93188e3"
   },
   "id": "Ohx0Rnn_7Q2K",
   "execution_count": 8,
   "outputs": [
    {
     "output_type": "stream",
     "name": "stdout",
     "text": [
      "Исключение 'TypeError' было подавлено\n"
     ]
    },
    {
     "output_type": "error",
     "ename": "IndexError",
     "evalue": "list index out of range",
     "traceback": [
      "\u001B[0;31m---------------------------------------------------------------------------\u001B[0m",
      "\u001B[0;31mIndexError\u001B[0m                                Traceback (most recent call last)",
      "\u001B[0;32m<ipython-input-8-df97257f291c>\u001B[0m in \u001B[0;36m<cell line: 4>\u001B[0;34m()\u001B[0m\n\u001B[1;32m      3\u001B[0m \u001B[0;34m\u001B[0m\u001B[0m\n\u001B[1;32m      4\u001B[0m \u001B[0;32mwith\u001B[0m \u001B[0mSuppressExceptions\u001B[0m\u001B[0;34m(\u001B[0m\u001B[0;34m)\u001B[0m\u001B[0;34m:\u001B[0m\u001B[0;34m\u001B[0m\u001B[0;34m\u001B[0m\u001B[0m\n\u001B[0;32m----> 5\u001B[0;31m     \u001B[0mprint\u001B[0m\u001B[0;34m(\u001B[0m\u001B[0;34m[\u001B[0m\u001B[0;36m1\u001B[0m\u001B[0;34m,\u001B[0m \u001B[0;36m2\u001B[0m\u001B[0;34m,\u001B[0m \u001B[0;36m3\u001B[0m\u001B[0;34m]\u001B[0m\u001B[0;34m[\u001B[0m\u001B[0;36m5\u001B[0m\u001B[0;34m]\u001B[0m\u001B[0;34m)\u001B[0m  \u001B[0;31m# Это исключение не будет подавлено\u001B[0m\u001B[0;34m\u001B[0m\u001B[0;34m\u001B[0m\u001B[0m\n\u001B[0m",
      "\u001B[0;31mIndexError\u001B[0m: list index out of range"
     ]
    }
   ]
  },
  {
   "cell_type": "markdown",
   "id": "7936b581",
   "metadata": {
    "id": "7936b581"
   },
   "source": [
    "# Создание временного файла\n",
    "Напишите класс менеджера контекста TemporaryFile, который создаёт временный файл при входе в контекст и автоматически удаляет его при выходе. Менеджер должен позволять записывать и читать данные из файла в течение его существования в контексте.\n",
    "\n",
    "**Условия:**\n",
    "1.\tПри входе в блок with менеджер должен создавать временный файл и возвращать его объект для записи и чтения.\n",
    "2.\tПри выходе из блока with временный файл должен автоматически удаляться.\n",
    "3.\tИмя файла должно быть уникальным и генерироваться автоматически.\n",
    "\n",
    "**Пример**\n",
    "```python\n",
    "with TemporaryFile() as temp_file:\n",
    "    temp_file.write(b\"Временные данные\\n\")  # Записываем данные\n",
    "    temp_file.seek(0)  # Возвращаемся в начало файла\n",
    "    print(temp_file.read())  # Читаем данные из временного файла\n",
    "\n",
    "print(\"Файл автоматически удалён\")\n",
    "```"
   ]
  },
  {
   "cell_type": "code",
   "execution_count": 9,
   "id": "0c7aacf0",
   "metadata": {
    "colab": {
     "base_uri": "https://localhost:8080/"
    },
    "id": "0c7aacf0",
    "outputId": "b31b204e-3e2c-440f-a450-c64a602cc379"
   },
   "outputs": [
    {
     "output_type": "stream",
     "name": "stdout",
     "text": [
      "Временные данные\n",
      "\n",
      "Файл автоматически удалён\n"
     ]
    }
   ],
   "source": [
    "import tempfile\n",
    "\n",
    "\n",
    "class TemporaryFile:\n",
    "    def __init__(self):\n",
    "        pass\n",
    "\n",
    "    def __enter__(self):\n",
    "        self.file = tempfile.NamedTemporaryFile(mode=\"w+\")\n",
    "        return self.file\n",
    "\n",
    "    def __exit__(self, exc_type, exc_value, traceback):\n",
    "        self.file.close()\n",
    "\n",
    "\n",
    "# Пример использования\n",
    "with TemporaryFile() as temp_file:\n",
    "    temp_file.write(\"Временные данные\\n\")  # Записываем данные\n",
    "    temp_file.seek(0)  # Возвращаемся в начало файла\n",
    "    print(temp_file.read())  # Читаем данные из временного файла\n",
    "\n",
    "print(\"Файл автоматически удалён\")"
   ]
  }
 ],
 "metadata": {
  "kernelspec": {
   "display_name": "Python 3 (ipykernel)",
   "language": "python",
   "name": "python3"
  },
  "language_info": {
   "codemirror_mode": {
    "name": "ipython",
    "version": 3
   },
   "file_extension": ".py",
   "mimetype": "text/x-python",
   "name": "python",
   "nbconvert_exporter": "python",
   "pygments_lexer": "ipython3",
   "version": "3.9.7"
  },
  "colab": {
   "provenance": []
  }
 },
 "nbformat": 4,
 "nbformat_minor": 5
}
