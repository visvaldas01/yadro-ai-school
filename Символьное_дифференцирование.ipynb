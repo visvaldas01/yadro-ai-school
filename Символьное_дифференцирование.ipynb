{
 "cells": [
  {
   "cell_type": "markdown",
   "id": "e4d450c2",
   "metadata": {
    "id": "e4d450c2"
   },
   "source": [
    "# Символьное дифференцирование"
   ]
  },
  {
   "cell_type": "markdown",
   "id": "ca42b161",
   "metadata": {
    "ExecuteTime": {
     "end_time": "2024-11-12T17:23:33.620558Z",
     "start_time": "2024-11-12T17:23:33.612887Z"
    },
    "id": "ca42b161"
   },
   "source": [
    "## Порядок сдачи домашнего"
   ]
  },
  {
   "cell_type": "markdown",
   "id": "1ff1df47",
   "metadata": {
    "id": "1ff1df47"
   },
   "source": [
    "Под каждое домашнее вы создаете отдельную ветку, куда вносите все изменения в рамках домашнего. Как только домашнее готово - создаете пулл реквест (обратите внимание что в пулл реквесте должны быть отражены все изменения в рамках домашнего). Ревьювера назначаете из таблицы - https://docs.google.com/spreadsheets/d/1vK6IgEqaqXniUJAQOOspiL_tx3EYTSXW1cUrMHAZFr8/edit?gid=0#gid=0\n",
    "Перед сдачей проверьте код, напишите тесты. Не забудьте про PEP8, например, с помощью flake8. Задание нужно делать в jupyter notebook.\n",
    "\n",
    "**Дедлайн - 18 ноября 10:00**"
   ]
  },
  {
   "cell_type": "markdown",
   "id": "f9fd13a2",
   "metadata": {
    "id": "f9fd13a2"
   },
   "source": [
    "Символьное дифференцирование - это инструмент для автоматического вывода формул производных, который открывает возможности для анализа сложных функций, оптимизации процессов и работы с уравнениями. Мы уже на многих занятиях сталкивались с этой темой - давайте попробуем реализовать собственное!"
   ]
  },
  {
   "cell_type": "markdown",
   "id": "cf3ccecf",
   "metadata": {
    "id": "cf3ccecf"
   },
   "source": [
    "## Выражение"
   ]
  },
  {
   "cell_type": "markdown",
   "id": "096fa612",
   "metadata": {
    "id": "096fa612"
   },
   "source": [
    "Создадим основной класс `Expr`, от которого будут наследоваться различные типы выражений, такие как константы, переменные, суммы, произведения и другие. Класс должен содержать методы:\n",
    "* `__call__`, который будет вычислять значение выражения, используя переданный ему контекст (словарь, связывающий имена переменных с их значениями).\n",
    "* `d`, принимающий имя переменной, по которой требуется вычислить производную, и возвращающий выражение, представляющее производную по этой переменной.\n",
    "\n",
    "Эти методы нужно будет переопределить в каждом из подклассов для корректного выполнения операций."
   ]
  },
  {
   "cell_type": "code",
   "execution_count": 9,
   "id": "7c73322e",
   "metadata": {
    "ExecuteTime": {
     "end_time": "2024-11-12T16:51:15.514301Z",
     "start_time": "2024-11-12T16:51:15.489368Z"
    },
    "id": "7c73322e"
   },
   "outputs": [],
   "source": [
    "class Expr:\n",
    "    def __call__(self, **context):\n",
    "        pass\n",
    "\n",
    "    def d(self, wrt):\n",
    "        pass\n",
    "\n",
    "    def __add__(self, other):\n",
    "        return Sum(self, other)\n",
    "\n",
    "    def __mul__(self, other):\n",
    "        return Product(self, other)\n",
    "\n",
    "    def __truediv__(self, other):\n",
    "        return Fraction(self, other)\n",
    "\n",
    "    def __sub__(self, other):\n",
    "        return self + Const(-1) * other\n",
    "\n",
    "    def __neg__(self):\n",
    "        return Const(-1) * self\n",
    "\n",
    "    def __pos__(self):\n",
    "        return self"
   ]
  },
  {
   "cell_type": "markdown",
   "id": "1a3f58d5",
   "metadata": {
    "id": "1a3f58d5"
   },
   "source": [
    "Создайте классы для двух видов выражений: `Const`, представляющий константу, и` Var`, представляющий переменную. Чтобы упростить использование, вместо обращения к конструкторам этих классов, будем использовать их однобуквенные сокращённые обозначения.\n",
    "\n",
    "**Пример использования:**\n",
    "```python\n",
    "V = Var\n",
    "C = Const\n",
    "\n",
    "C(5)()\n",
    "5\n",
    "C(5).d(V(\"x\"))()\n",
    "0\n",
    "V(\"x\")(x=5)\n",
    "5\n",
    "V(\"x\").d(V(\"y\"))(x=5)\n",
    "0\n",
    "V(\"x\").d(V(\"x\"))(x=5)\n",
    "1\n",
    "```"
   ]
  },
  {
   "cell_type": "code",
   "execution_count": 10,
   "id": "aa4e32b4",
   "metadata": {
    "ExecuteTime": {
     "end_time": "2024-11-12T16:42:49.906141Z",
     "start_time": "2024-11-12T16:42:49.888604Z"
    },
    "id": "aa4e32b4"
   },
   "outputs": [],
   "source": [
    "class Const(Expr):\n",
    "    def __init__(self, const):\n",
    "        self.const = const\n",
    "\n",
    "    def __call__(self, **context):\n",
    "        return self.const\n",
    "\n",
    "    def d(self, var):\n",
    "        return Const(0)\n",
    "\n",
    "\n",
    "class Var(Expr):\n",
    "    def __init__(self, var):\n",
    "        self.var = var\n",
    "\n",
    "    def __call__(self, **context):\n",
    "        if self.var in context:\n",
    "            return context[self.var]\n",
    "        else:\n",
    "            raise ValueError(f\"Значение переменной {self.var} не было передано\")\n",
    "\n",
    "    def d(self, var):\n",
    "        return Const(int(self.var == var.var))\n",
    "\n",
    "\n",
    "V = Var\n",
    "C = Const"
   ]
  },
  {
   "cell_type": "code",
   "source": [
    "C(5)()"
   ],
   "metadata": {
    "colab": {
     "base_uri": "https://localhost:8080/"
    },
    "id": "speXvuVA-VKD",
    "outputId": "57587922-9600-4a44-aa4f-f4d1c60dc204"
   },
   "id": "speXvuVA-VKD",
   "execution_count": 11,
   "outputs": [
    {
     "output_type": "execute_result",
     "data": {
      "text/plain": [
       "5"
      ]
     },
     "metadata": {},
     "execution_count": 11
    }
   ]
  },
  {
   "cell_type": "code",
   "source": [
    "C(5).d(V(\"x\"))()"
   ],
   "metadata": {
    "colab": {
     "base_uri": "https://localhost:8080/"
    },
    "id": "y6YO_okl-WaL",
    "outputId": "9362ecd0-3773-48ae-c3df-16177764b952"
   },
   "id": "y6YO_okl-WaL",
   "execution_count": 12,
   "outputs": [
    {
     "output_type": "execute_result",
     "data": {
      "text/plain": [
       "0"
      ]
     },
     "metadata": {},
     "execution_count": 12
    }
   ]
  },
  {
   "cell_type": "code",
   "source": [
    "V(\"x\")(x=5)"
   ],
   "metadata": {
    "colab": {
     "base_uri": "https://localhost:8080/"
    },
    "id": "fg-jtqyR-X0B",
    "outputId": "ad8eef76-26f8-42cd-fa28-7829132399b2"
   },
   "id": "fg-jtqyR-X0B",
   "execution_count": 18,
   "outputs": [
    {
     "output_type": "execute_result",
     "data": {
      "text/plain": [
       "5"
      ]
     },
     "metadata": {},
     "execution_count": 18
    }
   ]
  },
  {
   "cell_type": "code",
   "source": [
    "V(\"x\").d(V(\"y\"))(x=5)"
   ],
   "metadata": {
    "colab": {
     "base_uri": "https://localhost:8080/"
    },
    "id": "qcJA_jAP-ZA6",
    "outputId": "df6b0bd4-0032-488b-9eac-db019005a8db"
   },
   "id": "qcJA_jAP-ZA6",
   "execution_count": 21,
   "outputs": [
    {
     "output_type": "execute_result",
     "data": {
      "text/plain": [
       "0"
      ]
     },
     "metadata": {},
     "execution_count": 21
    }
   ]
  },
  {
   "cell_type": "code",
   "source": [
    "V(\"x\").d(V(\"x\"))(x=5)"
   ],
   "metadata": {
    "colab": {
     "base_uri": "https://localhost:8080/"
    },
    "id": "4Eu3B1Ia-Z9Z",
    "outputId": "61ccf07e-93e6-4636-e893-08c35ef488b2"
   },
   "id": "4Eu3B1Ia-Z9Z",
   "execution_count": 23,
   "outputs": [
    {
     "output_type": "execute_result",
     "data": {
      "text/plain": [
       "1"
      ]
     },
     "metadata": {},
     "execution_count": 23
    }
   ]
  },
  {
   "cell_type": "markdown",
   "id": "4a4c72ce",
   "metadata": {
    "id": "4a4c72ce"
   },
   "source": [
    "## Бинарные операции"
   ]
  },
  {
   "cell_type": "markdown",
   "id": "f87be166",
   "metadata": {
    "id": "f87be166"
   },
   "source": [
    "Создайте классы для бинарных операций: `Sum`, `Product` и `Fraction`. Поскольку бинарные операции определяются двумя операндами, их конструктор будет одинаковым для всех этих классов. Поэтому его можно вынести в отдельный базовый класс, чтобы избежать дублирования кода."
   ]
  },
  {
   "cell_type": "code",
   "execution_count": 24,
   "id": "6aaf6b13",
   "metadata": {
    "ExecuteTime": {
     "end_time": "2024-11-12T16:51:24.856165Z",
     "start_time": "2024-11-12T16:51:24.844203Z"
    },
    "id": "6aaf6b13"
   },
   "outputs": [],
   "source": [
    "class BinOp(Expr):\n",
    "    def __init__(self, expr1, expr2):\n",
    "        self.expr1, self.expr2 = expr1, expr2"
   ]
  },
  {
   "cell_type": "markdown",
   "id": "3e335e95",
   "metadata": {
    "id": "3e335e95"
   },
   "source": [
    "Реализуйте `Sum` для суммирования, `Product` для умножения и `Fraction` для деления.\n",
    "\n",
    "**Пример использования:**\n",
    "\n",
    "```python\n",
    "Sum(V(\"x\"), Fraction(V(\"x\"), V(\"y\")))(x=5, y=2.5)\n",
    "7.0\n",
    "Fraction(Sum(C(5), V(\"y\")), Product(V(\"x\"), V(\"y\")))(x=1, y=2)\n",
    "3.5\n",
    "Fraction(Sum(C(5), V(\"y\")), Product(V(\"x\"), V(\"y\"))).d(V(\"x\"))(x=1, y=2)\n",
    "-3.5\n",
    "Fraction(Sum(C(5), V(\"y\")), Product(V(\"x\"), V(\"y\"))).d(V(\"y\"))(x=1, y=2)\n",
    "-1.25\n",
    "```"
   ]
  },
  {
   "cell_type": "code",
   "execution_count": 25,
   "id": "cc5c5599",
   "metadata": {
    "id": "cc5c5599"
   },
   "outputs": [],
   "source": [
    "class Sum(BinOp):\n",
    "    def __call__(self, **context):\n",
    "        return self.expr1(**context) + self.expr2(**context)\n",
    "\n",
    "    def d(self, var):\n",
    "        u = self.expr1\n",
    "        du = u.d(var)\n",
    "        v = self.expr2\n",
    "        dv = v.d(var)\n",
    "        return Sum(du, dv)\n",
    "\n",
    "\n",
    "class Product(BinOp):\n",
    "    def __call__(self, **context):\n",
    "        return self.expr1(**context) * self.expr2(**context)\n",
    "\n",
    "    def d(self, var):\n",
    "        u = self.expr1\n",
    "        du = u.d(var)\n",
    "        v = self.expr2\n",
    "        dv = v.d(var)\n",
    "        vdu = Product(v, du)\n",
    "        udv = Product(u, dv)\n",
    "        return Sum(vdu, udv)\n",
    "\n",
    "\n",
    "class Fraction(BinOp):\n",
    "    def __call__(self, **context):\n",
    "        if self.expr2(**context) == 0:\n",
    "            raise ZeroDivisionError(\"Знаменатель не должен равняться 0\")\n",
    "        return self.expr1(**context) / self.expr2(**context)\n",
    "\n",
    "    def d(self, var):\n",
    "        u = self.expr1\n",
    "        du = u.d(var)\n",
    "        v = self.expr2\n",
    "        dv = v.d(var)\n",
    "        vdu = Product(v, du)\n",
    "        udv = Product(u, dv)\n",
    "        mudv = Product(Const(-1), udv)\n",
    "        vdumudv = Sum(vdu, mudv)\n",
    "        vp2 = Product(v, v)\n",
    "        return Fraction(vdumudv, vp2)"
   ]
  },
  {
   "cell_type": "code",
   "source": [
    "Sum(V(\"x\"), Fraction(V(\"x\"), V(\"y\")))(x=5, y=2.5)"
   ],
   "metadata": {
    "colab": {
     "base_uri": "https://localhost:8080/"
    },
    "id": "eI2ZHXBkC_Ck",
    "outputId": "e8a8cf47-1851-48c7-f660-3c4c21ab2300"
   },
   "id": "eI2ZHXBkC_Ck",
   "execution_count": 26,
   "outputs": [
    {
     "output_type": "execute_result",
     "data": {
      "text/plain": [
       "7.0"
      ]
     },
     "metadata": {},
     "execution_count": 26
    }
   ]
  },
  {
   "cell_type": "code",
   "source": [
    "Fraction(Sum(C(5), V(\"y\")), Product(V(\"x\"), V(\"y\")))(x=1, y=2)"
   ],
   "metadata": {
    "colab": {
     "base_uri": "https://localhost:8080/"
    },
    "id": "1KU5UZDIDAf4",
    "outputId": "7c779429-230e-4c29-c225-67b1ee3fe1bc"
   },
   "id": "1KU5UZDIDAf4",
   "execution_count": 27,
   "outputs": [
    {
     "output_type": "execute_result",
     "data": {
      "text/plain": [
       "3.5"
      ]
     },
     "metadata": {},
     "execution_count": 27
    }
   ]
  },
  {
   "cell_type": "code",
   "source": [
    "Fraction(Sum(C(5), V(\"y\")), Product(V(\"x\"), V(\"y\"))).d(V(\"x\"))(x=1, y=2)"
   ],
   "metadata": {
    "colab": {
     "base_uri": "https://localhost:8080/"
    },
    "id": "yqrd0wexDBXN",
    "outputId": "1f02c383-4070-4019-837b-f9fcfafb90e0"
   },
   "id": "yqrd0wexDBXN",
   "execution_count": 29,
   "outputs": [
    {
     "output_type": "execute_result",
     "data": {
      "text/plain": [
       "-3.5"
      ]
     },
     "metadata": {},
     "execution_count": 29
    }
   ]
  },
  {
   "cell_type": "code",
   "source": [
    "Fraction(Sum(C(5), V(\"y\")), Product(V(\"x\"), V(\"y\"))).d(V(\"y\"))(x=1, y=2)"
   ],
   "metadata": {
    "colab": {
     "base_uri": "https://localhost:8080/"
    },
    "id": "LHihp_H-DCBe",
    "outputId": "a314f4b5-2608-452d-e3c9-8ec64a5e4086"
   },
   "id": "LHihp_H-DCBe",
   "execution_count": 30,
   "outputs": [
    {
     "output_type": "execute_result",
     "data": {
      "text/plain": [
       "-1.25"
      ]
     },
     "metadata": {},
     "execution_count": 30
    }
   ]
  },
  {
   "cell_type": "markdown",
   "id": "68648251",
   "metadata": {
    "id": "68648251"
   },
   "source": [
    "## Перегрузка операторов"
   ]
  },
  {
   "cell_type": "markdown",
   "id": "49be6b43",
   "metadata": {
    "ExecuteTime": {
     "end_time": "2024-11-12T16:56:10.954760Z",
     "start_time": "2024-11-12T16:56:10.934054Z"
    },
    "id": "49be6b43"
   },
   "source": [
    "Добавьте перегрузку операторов в базовых класс `Expr`. Обратите что в классах мы можем тоже заменить на использование операторов.\n",
    "```python  \n",
    "-e         e.__neg__()\n",
    "+e         e.__pos__()\n",
    "e1 + e2    e1.__add__(e2)\n",
    "e1 - e2    e1.__sub__(e2)\n",
    "e1 * e2    e1.__mul__(e2)\n",
    "e1 / e2    e1.__truediv__(e2)\n",
    "```\n",
    "\n",
    "**Пример использования:**\n",
    "\n",
    "```python\n",
    "(V(\"x\") * V(\"x\") / V(\"y\"))(x=5, y=2.5)\n",
    "10.0\n",
    "```"
   ]
  },
  {
   "cell_type": "code",
   "source": [
    "(V(\"x\") * V(\"x\") / V(\"y\"))(x=5, y=2.5)"
   ],
   "metadata": {
    "colab": {
     "base_uri": "https://localhost:8080/"
    },
    "id": "01ImoKyCDPyd",
    "outputId": "3b5967a4-4e6a-436f-f124-a5a1d0a7e5c8"
   },
   "id": "01ImoKyCDPyd",
   "execution_count": 33,
   "outputs": [
    {
     "output_type": "execute_result",
     "data": {
      "text/plain": [
       "10.0"
      ]
     },
     "metadata": {},
     "execution_count": 33
    }
   ]
  },
  {
   "cell_type": "markdown",
   "id": "d8c4e847",
   "metadata": {
    "ExecuteTime": {
     "end_time": "2024-11-12T17:15:20.644716Z",
     "start_time": "2024-11-12T17:15:20.631450Z"
    },
    "id": "d8c4e847"
   },
   "source": [
    "## Метод Ньютона-Рафсона"
   ]
  },
  {
   "cell_type": "markdown",
   "id": "c2ff4b5b",
   "metadata": {
    "id": "c2ff4b5b"
   },
   "source": [
    "Напишите функцию `newton_raphson`, которая принимает дифференцируемую функцию  $f$  от переменной  $x$ , начальное приближение  $x_0$ , и положительное число  $\\epsilon$ , задающее точность вычислений. Функция должна возвращать значение  $x$ , при котором  $f(x)$  становится равным нулю. Метод Ньютона-Рафсона выполняет итеративный поиск корня функции  $f(x)$ , начиная с начального значения  $x_0$ , и использует правило  \n",
    "$$x_{n+1} = x_n - \\frac{f(x_n)}{f{\\prime}(x_n)}$$  \n",
    "для обновления  $x$  на каждом шаге. Итерации продолжаются до тех пор, пока условие остановки  $|x_{n+1} - x_n| \\leq \\epsilon$  не будет выполнено.\n",
    "\n",
    "**Пример использования:**\n",
    "\n",
    "```python\n",
    "x = Var(\"x\")\n",
    "f = Const(-5) * x * x * x * x * x + Const(3) * x + Const(2)\n",
    "zero = newton_raphson(f, 0.5, eps=1e-4)\n",
    "zero, f(x=zero)\n",
    "(1.000000000001132, -2.490496697760136e-11)\n",
    "```"
   ]
  },
  {
   "cell_type": "code",
   "execution_count": 31,
   "id": "5e185229",
   "metadata": {
    "id": "5e185229"
   },
   "outputs": [],
   "source": [
    "def newton_raphson(expr, x0, eps=1e-4):\n",
    "    x = V(\"x\")\n",
    "    g = x - expr / expr.d(x)\n",
    "    xn = x0\n",
    "    xn1 = xn + 2 * eps\n",
    "    while abs(xn1 - xn) > eps:\n",
    "        xn = xn1\n",
    "        xn1 = g(x=xn1)\n",
    "    return xn1"
   ]
  },
  {
   "cell_type": "code",
   "source": [
    "x = Var(\"x\")\n",
    "f = Const(-5) * x * x * x * x * x + Const(3) * x + Const(2)\n",
    "zero = newton_raphson(f, 0.5, eps=1e-4)\n",
    "zero, f(x=zero)"
   ],
   "metadata": {
    "colab": {
     "base_uri": "https://localhost:8080/"
    },
    "id": "YECJVQIRDIBu",
    "outputId": "28ae0451-6142-4d1c-e905-da0bafcc6297"
   },
   "id": "YECJVQIRDIBu",
   "execution_count": 32,
   "outputs": [
    {
     "output_type": "execute_result",
     "data": {
      "text/plain": [
       "(1.000000000001132, -2.490496697760136e-11)"
      ]
     },
     "metadata": {},
     "execution_count": 32
    }
   ]
  }
 ],
 "metadata": {
  "kernelspec": {
   "display_name": "Python 3 (ipykernel)",
   "language": "python",
   "name": "python3"
  },
  "language_info": {
   "codemirror_mode": {
    "name": "ipython",
    "version": 3
   },
   "file_extension": ".py",
   "mimetype": "text/x-python",
   "name": "python",
   "nbconvert_exporter": "python",
   "pygments_lexer": "ipython3",
   "version": "3.9.7"
  },
  "colab": {
   "provenance": []
  }
 },
 "nbformat": 4,
 "nbformat_minor": 5
}
