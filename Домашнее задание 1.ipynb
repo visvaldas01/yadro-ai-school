{
 "cells": [
  {
   "cell_type": "markdown",
   "id": "1d227b09",
   "metadata": {
    "id": "1d227b09"
   },
   "source": [
    "# Парное выравнивание"
   ]
  },
  {
   "cell_type": "markdown",
   "id": "09ebf420",
   "metadata": {
    "id": "09ebf420"
   },
   "source": [
    "# Порядок сдачи домашнего"
   ]
  },
  {
   "cell_type": "markdown",
   "id": "b2e6a39f",
   "metadata": {
    "ExecuteTime": {
     "end_time": "2024-09-23T05:46:49.255523Z",
     "start_time": "2024-09-23T05:46:49.234264Z"
    },
    "id": "b2e6a39f"
   },
   "source": [
    "Вам требуется создать гит репозиторий куда вы будете складывать все ваши домашние. Под каждое домашнее вы создаете отдельную ветку куда вносите все изменения в рамках домашнего. Как только домашнее готово - создаете пулл реквест (обратите внимание что в пулл реквесте должны быть отражены все изменения в рамках домашнего). Ревьювера назначаете из таблицы - https://docs.google.com/spreadsheets/d/1vK6IgEqaqXniUJAQOOspiL_tx3EYTSXW1cUrMHAZFr8/edit?gid=0#gid=0\n",
    "Перед сдачей проверьте код, напишите тесты. Не забудьте про PEP8, например, с помощью flake8. Задание нужно делать в jupyter notebook.\n",
    "\n",
    "**Дедлайн - 30 сентября 10:00**"
   ]
  },
  {
   "cell_type": "markdown",
   "id": "d33c83c9",
   "metadata": {
    "id": "d33c83c9"
   },
   "source": [
    "# Введение\n",
    "\n",
    "**Выравнивание последовательностей** — фундаментальный инструмент в биоинформатике, позволяющий сравнивать биологические последовательности (ДНК, РНК, белки) для выявления сходства, которое может указывать на функциональные, структурные или эволюционные связи между ними.\n",
    "\n",
    "**Парное выравнивание** подразумевает сравнение двух последовательностей для определения наилучшего соответствия между их элементами (нуклеотидами или аминокислотами). Существует два основных типа парного выравнивания:\n",
    "\n",
    "- **Глобальное выравнивание**: направлено на выравнивание всей длины двух последовательностей, максимально учитывая все элементы.\n",
    "- **Локальное выравнивание**: нацелено на поиск наилучшего соответствующего участка внутри двух последовательностей.\n",
    "\n",
    "В данном домашнем задании мы с вами сконцентрируемся на **глобальном выравнивании**."
   ]
  },
  {
   "cell_type": "markdown",
   "id": "3265888c",
   "metadata": {
    "id": "3265888c"
   },
   "source": [
    "### Пример парного выравнивания\n",
    "\n",
    "Рассмотрим две нуклеотидные последовательности:\n",
    "\n",
    "```\n",
    "Последовательность 1 (Seq1): A G C T A C G A\n",
    "Последовательность 2 (Seq2): G C T A G A\n",
    "```\n",
    "\n",
    "**Глобальное выравнивание** (учитывает всю длину последовательностей):\n",
    "\n",
    "```\n",
    "Seq1: A G C T A C G A\n",
    "Seq2: - G C T A - G A\n",
    "```"
   ]
  },
  {
   "cell_type": "markdown",
   "id": "575fa50e",
   "metadata": {
    "id": "575fa50e"
   },
   "source": [
    "### Значение выравнивания последовательностей\n",
    "\n",
    "- **Эволюционные связи**: Сходство между последовательностями может указывать на общих предков.\n",
    "- **Функциональные домены**: Выравнивание помогает идентифицировать консервативные участки, важные для функции белка или нуклеиновой кислоты.\n",
    "- **Геномные исследования**: Используется для аннотации генов, предсказания структур и понимания генетических вариаций."
   ]
  },
  {
   "cell_type": "markdown",
   "id": "75ff52f7",
   "metadata": {
    "id": "75ff52f7"
   },
   "source": [
    "## Алгоритм выравнивания\n",
    "\n",
    "- Для автоматизации процесса выравнивания используется **Алгоритм Нидлмана-Вунша**. Он предназначен для глобального выравнивания и использует динамическое программирование для нахождения оптимального выравнивания по всей длине последовательностей.\n",
    "- Для оценки сходства при выравнивании белковых последовательностей используется матрица **BLOSUM** (Blocks Substitution Matrix). Матрицы BLOSUM создаются на основе статистического анализа реальных белковых множественных выравниваний последовательностей."
   ]
  },
  {
   "cell_type": "markdown",
   "id": "5ee2122f",
   "metadata": {
    "id": "5ee2122f"
   },
   "source": [
    "### Пример множественного выравнивания (для построения матрциы BLOSUM)\n",
    "\n",
    "Рассмотрим нуклеотидные последовательности:\n",
    "\n",
    "```\n",
    "Последовательность 1 (Seq1): A G C T A C G T G T C G C T G A A T C T A T G A C T\n",
    "Последовательность 2 (Seq2): G C T A G A G C A A G G C A A C T G C A T C T\n",
    "Последовательность 3 (Seq3): A C T G C A C C C A T G A A C C T C G C G C T\n",
    "Последовательность 4 (Seq4): A C T G C A C C C A T G A A C C T C T C G C T\n",
    "Последовательность 5 (Seq5): A C T G C A C C C A T G A A C C T C T C G C T\n",
    "Последовательность 6 (Seq6): A C T G C A C C C A T G A A C C T C T C A C T\n",
    "Последовательность 7 (Seq7): A C T G C A C C C A T G A A C C T C T C A C T\n",
    "```\n",
    "\n",
    "**Множественное выравнивание**:\n",
    "\n",
    "```\n",
    "Seq1: A G C T A C G T G T C G C T G A A T C T A T G A C T\n",
    "Seq2: - G C T A - G A G C A - A G G C A A C T G C A T C T\n",
    "Seq3: A - C T G - C A C C C - A T G A A C C T C G C G C T\n",
    "Seq4: A - C T G - C A C C C - A T G A A C C T C T C G C T\n",
    "Seq5: A - C T G - C A C C C - A T G A A C C T C T C G C T\n",
    "Seq6: A - C T G - C A C C C - A T G A A C C T C T C A C T\n",
    "Seq7: A - C T G - C A C C C - A T G A A C C T C T C A C T\n",
    "```"
   ]
  },
  {
   "cell_type": "markdown",
   "id": "fe15af34",
   "metadata": {
    "id": "fe15af34"
   },
   "source": [
    "Перед тем как приступать к реализации парного выравнивания давайте научимся считать матрицу BLOSUM."
   ]
  },
  {
   "cell_type": "markdown",
   "id": "4efffee5",
   "metadata": {
    "id": "4efffee5"
   },
   "source": [
    "# Матрица BLOSUM"
   ]
  },
  {
   "cell_type": "markdown",
   "id": "d424f7b8",
   "metadata": {
    "ExecuteTime": {
     "end_time": "2024-09-19T05:35:03.002840Z",
     "start_time": "2024-09-19T05:35:02.980986Z"
    },
    "id": "d424f7b8"
   },
   "source": [
    "## Подсчет частот пар нуклеотидов\n",
    "\n",
    "### Шаг 1.1: Генерация пар нуклеотидов\n",
    "\n",
    "Напишите функцию `generate_pairs(alignments)`, которая проходит по всем позициям выравнивания (одного столбца) и генерирует все возможные пары нуклеотидов в этой позиции.\n",
    "\n",
    "**Пример**:\n",
    "\n",
    "Рассмотрим на примере множественного выравнивания выше:\n",
    "\n",
    "```\n",
    "generate_pairs([\"A\", \"A\", \"G\"])\n",
    "[('A', 'A'), ('A', 'G'), ('A', 'G')]\n",
    "\n",
    "generate_pairs([\"T\", \"T\", \"T\"])\n",
    "[('T', 'T'), ('T', 'T'), ('T', 'T')]\n",
    "\n",
    "generate_pairs([\"G\", \"G\", \"-\"])\n",
    "[('G', 'G'), ('G', '-'), ('G', '-')]\n",
    "\n",
    "len(generate_pairs(['A', 'T', 'G', 'G', 'G', 'A', 'A']))\n",
    "21\n",
    "```"
   ]
  },
  {
   "cell_type": "code",
   "execution_count": 1,
   "id": "a693a08c",
   "metadata": {
    "ExecuteTime": {
     "end_time": "2024-09-20T07:42:12.795151Z",
     "start_time": "2024-09-20T07:42:12.788005Z"
    },
    "id": "a693a08c"
   },
   "outputs": [],
   "source": [
    "alignments = [\"AGCTACGTGTCGCTGAATCTATGACT\",\n",
    "              \"-GCTA-GAGCA-AGGCAACTGCATCT\",\n",
    "              \"A-CTG-CACCC-ATGAACCTCGCGCT\",\n",
    "              \"A-CTG-CACCC-ATGAACCTCTCGCT\",\n",
    "              \"A-CTG-CACCC-ATGAACCTCTCGCT\",\n",
    "              \"A-CTG-CACCC-ATGAACCTCTCACT\",\n",
    "              \"A-CTG-CACCC-ATGAACCTCTCACT\"\n",
    "              ]"
   ]
  },
  {
   "cell_type": "code",
   "execution_count": 2,
   "id": "cc0fda11",
   "metadata": {
    "ExecuteTime": {
     "end_time": "2024-09-20T07:42:12.798926Z",
     "start_time": "2024-09-20T07:42:12.796705Z"
    },
    "id": "cc0fda11"
   },
   "outputs": [],
   "source": [
    "def generate_pairs(alignments):\n",
    "    result = []\n",
    "    for j in range(len(alignments[0])):\n",
    "        for i in range(len(alignments) - 1):\n",
    "            for k in range(i + 1, len(alignments)):\n",
    "                result.append((alignments[i][j], alignments[k][j]))\n",
    "    return result"
   ]
  },
  {
   "cell_type": "code",
   "source": [
    "generate_pairs([\"A\", \"A\", \"G\"])"
   ],
   "metadata": {
    "colab": {
     "base_uri": "https://localhost:8080/"
    },
    "id": "zP5y2Lo3qMWi",
    "outputId": "6f6e9f64-a99f-47ce-9f0d-a44f8b28205d"
   },
   "id": "zP5y2Lo3qMWi",
   "execution_count": 3,
   "outputs": [
    {
     "output_type": "execute_result",
     "data": {
      "text/plain": [
       "[('A', 'A'), ('A', 'G'), ('A', 'G')]"
      ]
     },
     "metadata": {},
     "execution_count": 3
    }
   ]
  },
  {
   "cell_type": "code",
   "source": [
    "generate_pairs([\"T\", \"T\", \"T\"])"
   ],
   "metadata": {
    "colab": {
     "base_uri": "https://localhost:8080/"
    },
    "id": "Wf7eGH4eqOTI",
    "outputId": "6770275a-3c25-4ee9-8cfe-3d49fcc7d495"
   },
   "id": "Wf7eGH4eqOTI",
   "execution_count": 4,
   "outputs": [
    {
     "output_type": "execute_result",
     "data": {
      "text/plain": [
       "[('T', 'T'), ('T', 'T'), ('T', 'T')]"
      ]
     },
     "metadata": {},
     "execution_count": 4
    }
   ]
  },
  {
   "cell_type": "code",
   "source": [
    "generate_pairs([\"G\", \"G\", \"-\"])"
   ],
   "metadata": {
    "colab": {
     "base_uri": "https://localhost:8080/"
    },
    "id": "Kfp3bED3qQ3-",
    "outputId": "ba69f5d6-011c-4848-c410-10aba8c7629c"
   },
   "id": "Kfp3bED3qQ3-",
   "execution_count": 5,
   "outputs": [
    {
     "output_type": "execute_result",
     "data": {
      "text/plain": [
       "[('G', 'G'), ('G', '-'), ('G', '-')]"
      ]
     },
     "metadata": {},
     "execution_count": 5
    }
   ]
  },
  {
   "cell_type": "code",
   "source": [
    "len(generate_pairs(['A', 'T', 'G', 'G', 'G', 'A', 'A']))"
   ],
   "metadata": {
    "colab": {
     "base_uri": "https://localhost:8080/"
    },
    "id": "Vnd6_s1IqTIi",
    "outputId": "24d2011d-56ab-47d2-deae-42088b4c8320"
   },
   "id": "Vnd6_s1IqTIi",
   "execution_count": 6,
   "outputs": [
    {
     "output_type": "execute_result",
     "data": {
      "text/plain": [
       "21"
      ]
     },
     "metadata": {},
     "execution_count": 6
    }
   ]
  },
  {
   "cell_type": "markdown",
   "id": "b2a33a17",
   "metadata": {
    "id": "b2a33a17"
   },
   "source": [
    "### Шаг 1.2: Подсчет частот пар\n",
    "\n",
    "Используйте полученные пары для подсчета частоты каждой пары нуклеотидов. Создайте словарь `pair_counts`, где ключом является кортеж из двух нуклеотидов, а значением — количество их совместных появлений. Пропуски в выравнивании нужно пропускать (если один из символ в выравнивании `'-'`)\n",
    "\n",
    "**Подсказка**: Учитывайте, что матрица симметрична, поэтому пары `('A','G')` и `('G','A')` должны считаться одинаковыми.\n",
    "\n",
    "**Пример**:\n",
    "\n",
    "```\n",
    "pair_counts = count_pairs(alignments)\n",
    "pair_counts\n",
    "{('A', 'A'): 85, ('G', 'G'): 37, ('C', 'C'): 143, ('T', 'T'): 88, ('A', 'G'): 21,\n",
    " ('C', 'G'): 31, ('A', 'T'): 10, ('C', 'T'): 16, ('A', 'C'): 33, ('G', 'T'): 14}\n",
    "```"
   ]
  },
  {
   "cell_type": "code",
   "execution_count": 7,
   "id": "70cc891c",
   "metadata": {
    "ExecuteTime": {
     "end_time": "2024-09-20T07:42:12.805520Z",
     "start_time": "2024-09-20T07:42:12.803627Z"
    },
    "id": "70cc891c"
   },
   "outputs": [],
   "source": [
    "from collections import defaultdict\n",
    "\n",
    "\n",
    "def count_pairs(alignments):\n",
    "    result = defaultdict(int)\n",
    "    for pair in generate_pairs(alignments):\n",
    "        if pair[0] != '-' and pair[1] != '-':\n",
    "            if pair[1] > pair[0]:\n",
    "                result[pair] += 1\n",
    "            else:\n",
    "                result[(pair[1], pair[0])] += 1\n",
    "    return dict(result)"
   ]
  },
  {
   "cell_type": "code",
   "source": [
    "pair_counts = count_pairs(alignments)\n",
    "pair_counts"
   ],
   "metadata": {
    "colab": {
     "base_uri": "https://localhost:8080/"
    },
    "id": "zoIWjUzd1tZq",
    "outputId": "57792002-d2af-4157-8825-a4374ce69ad8"
   },
   "id": "zoIWjUzd1tZq",
   "execution_count": 8,
   "outputs": [
    {
     "output_type": "execute_result",
     "data": {
      "text/plain": [
       "{('A', 'A'): 85,\n",
       " ('G', 'G'): 37,\n",
       " ('C', 'C'): 143,\n",
       " ('T', 'T'): 88,\n",
       " ('A', 'G'): 21,\n",
       " ('C', 'G'): 31,\n",
       " ('A', 'T'): 10,\n",
       " ('C', 'T'): 16,\n",
       " ('A', 'C'): 33,\n",
       " ('G', 'T'): 14}"
      ]
     },
     "metadata": {},
     "execution_count": 8
    }
   ]
  },
  {
   "cell_type": "markdown",
   "id": "528faeca",
   "metadata": {
    "id": "528faeca"
   },
   "source": [
    "## Вычисление ожидаемых частот"
   ]
  },
  {
   "cell_type": "markdown",
   "id": "351ef841",
   "metadata": {
    "ExecuteTime": {
     "end_time": "2024-09-19T07:27:32.026037Z",
     "start_time": "2024-09-19T07:27:32.008635Z"
    },
    "id": "351ef841"
   },
   "source": [
    "Реализуйте функцию `calculate_frequencies`, которая будет вычислять частоту нуклеотида по множественному выравниванию\n",
    "\n",
    "**Пример**:\n",
    "\n",
    "```\n",
    "freqs = calculate_frequencies(alignments)\n",
    "print(\"Частоты:\")\n",
    "for x, freq in freqs.items():\n",
    "    print(f\"{x}: {freq:.4f}\")\n",
    "    \n",
    "Частоты:\n",
    "A: 0.2439\n",
    "G: 0.1585\n",
    "C: 0.3780\n",
    "T: 0.2195\n",
    "```"
   ]
  },
  {
   "cell_type": "code",
   "execution_count": 9,
   "id": "ae017aee",
   "metadata": {
    "ExecuteTime": {
     "end_time": "2024-09-20T07:55:17.618141Z",
     "start_time": "2024-09-20T07:55:17.610470Z"
    },
    "id": "ae017aee"
   },
   "outputs": [],
   "source": [
    "def calculate_frequencies(alignments):\n",
    "    result = defaultdict(float)\n",
    "    for alignment in alignments:\n",
    "        for nuc in alignment:\n",
    "            if nuc != '-':\n",
    "                result[nuc] += 1\n",
    "    s = sum(result.values())\n",
    "    for nuc in result.keys():\n",
    "        result[nuc] /= s\n",
    "    return result"
   ]
  },
  {
   "cell_type": "code",
   "source": [
    "freqs = calculate_frequencies(alignments)\n",
    "print(\"Частоты:\")\n",
    "for x, freq in freqs.items():\n",
    "    print(f\"{x}: {freq:.4f}\")"
   ],
   "metadata": {
    "colab": {
     "base_uri": "https://localhost:8080/"
    },
    "id": "p2Fudhd_uiDF",
    "outputId": "cdad4a64-c3c9-418d-a2e2-782d586b41c5"
   },
   "id": "p2Fudhd_uiDF",
   "execution_count": 10,
   "outputs": [
    {
     "output_type": "stream",
     "name": "stdout",
     "text": [
      "Частоты:\n",
      "A: 0.2439\n",
      "G: 0.1585\n",
      "C: 0.3780\n",
      "T: 0.2195\n"
     ]
    }
   ]
  },
  {
   "cell_type": "markdown",
   "id": "6bcd02ff",
   "metadata": {
    "id": "6bcd02ff"
   },
   "source": [
    "##  Расчет логарифмических коэффициентов"
   ]
  },
  {
   "cell_type": "markdown",
   "id": "056d0896",
   "metadata": {
    "id": "056d0896"
   },
   "source": [
    "- Для каждой пары нуклеотидов `(x, y)` вычислите логарифмический коэффициент замены по формуле:\n",
    "\n",
    "\n",
    "$$S(x, y) = scale * \\log_2 \\left( \\frac{observed\\_freq[x, y]}{expected\\_freq[x, y]} \\right)$$\n",
    "\n",
    "- Здесь `observed_freq` — наблюдаемая частота пары из `pair_counts` деленное на общее количество пар, а `expected_freq` — ожидаемая частота, которую можно вычислить как `expected_freq[x, y] = freqs[x] * freqs[y]`\n",
    "\n",
    "- Для удобства представления округлите значения `S(x, y)` до целых чисел, умножив на масштабный фактор (например, 3).\n",
    "\n",
    "**Пример:**\n",
    "\n",
    "```python\n",
    "scores = calculate_scores(pair_counts, freqs)\n",
    "scores\n",
    "{('A', 'A'): 5, ('G', 'G'): 5, ('C', 'C'): 3, ('T', 'T'): 6, ('A', 'G'): 1,\n",
    " ('C', 'G'): 0, ('A', 'T'): -3, ('C', 'T'): -3, ('A', 'C'): 0, ('G', 'T'): 0}\n",
    "```\n"
   ]
  },
  {
   "cell_type": "code",
   "execution_count": 11,
   "id": "96bfcb12",
   "metadata": {
    "ExecuteTime": {
     "end_time": "2024-09-20T07:57:32.470771Z",
     "start_time": "2024-09-20T07:57:32.458314Z"
    },
    "id": "96bfcb12"
   },
   "outputs": [],
   "source": [
    "from math import log2\n",
    "\n",
    "\n",
    "def calculate_scores(pair_counts, freqs, scale=3):\n",
    "    result = defaultdict(int)\n",
    "    s = sum(pair_counts.values())\n",
    "    for pair in pair_counts.keys():\n",
    "        x = pair[0]\n",
    "        y = pair[1]\n",
    "        observed_freq = pair_counts[pair] / s\n",
    "        expected_freq = freqs[x] * freqs[y]\n",
    "        result[pair] = round(scale * log2(observed_freq / expected_freq))\n",
    "    return dict(result)"
   ]
  },
  {
   "cell_type": "code",
   "source": [
    "scores = calculate_scores(pair_counts, freqs)\n",
    "scores"
   ],
   "metadata": {
    "colab": {
     "base_uri": "https://localhost:8080/"
    },
    "id": "QyzOi3NOzpfz",
    "outputId": "4e039cc5-9720-4277-e33d-af98f34c3785"
   },
   "id": "QyzOi3NOzpfz",
   "execution_count": 12,
   "outputs": [
    {
     "output_type": "execute_result",
     "data": {
      "text/plain": [
       "{('A', 'A'): 5,\n",
       " ('G', 'G'): 5,\n",
       " ('C', 'C'): 3,\n",
       " ('T', 'T'): 6,\n",
       " ('A', 'G'): 1,\n",
       " ('C', 'G'): 0,\n",
       " ('A', 'T'): -4,\n",
       " ('C', 'T'): -4,\n",
       " ('A', 'C'): -1,\n",
       " ('G', 'T'): -1}"
      ]
     },
     "metadata": {},
     "execution_count": 12
    }
   ]
  },
  {
   "cell_type": "markdown",
   "id": "876ab787",
   "metadata": {
    "id": "876ab787"
   },
   "source": [
    "\n",
    "## Составление матрицы BLOSUM\n",
    "\n",
    "### Шаг 4.1: Заполнение матрицы\n",
    "\n",
    "- Реализуйте функцию `create_blosum_matrix`, для создания BLOSUM матрицы.\n",
    "- Используйте рассчитанные ранее логарифмические коэффициенты `scores` для заполнения матрицы.\n",
    "- Учитывайте, что матрица симметрична: `S(x, y) = S(y, x)`.\n",
    "\n",
    "**Пример:**\n",
    "\n",
    "```python\n",
    "blosum_matrix = create_blosum_matrix(scores, nucleotides)\n",
    "blosum_matrix\n",
    "{'A': {'A': 5, 'G': 1, 'C': 0, 'T': -3},\n",
    " 'G': {'A': 1, 'G': 5, 'C': 0, 'T': 0},\n",
    " 'C': {'A': 0, 'G': 0, 'C': 3, 'T': -3},\n",
    " 'T': {'A': -3, 'G': 0, 'C': -3, 'T': 6}}\n",
    "```\n"
   ]
  },
  {
   "cell_type": "code",
   "source": [
    "nucleotides = list(freqs.keys())\n",
    "nucleotides"
   ],
   "metadata": {
    "colab": {
     "base_uri": "https://localhost:8080/"
    },
    "id": "9COAeZ9k7JaC",
    "outputId": "b2361faf-6b30-4d10-c824-449fcbee12f3"
   },
   "id": "9COAeZ9k7JaC",
   "execution_count": 13,
   "outputs": [
    {
     "output_type": "execute_result",
     "data": {
      "text/plain": [
       "['A', 'G', 'C', 'T']"
      ]
     },
     "metadata": {},
     "execution_count": 13
    }
   ]
  },
  {
   "cell_type": "code",
   "execution_count": 14,
   "id": "e28e3f2c",
   "metadata": {
    "ExecuteTime": {
     "end_time": "2024-09-20T07:49:45.687263Z",
     "start_time": "2024-09-20T07:49:45.676996Z"
    },
    "id": "e28e3f2c"
   },
   "outputs": [],
   "source": [
    "def create_blosum_matrix(scores, nucleotides):\n",
    "    result = defaultdict(lambda: defaultdict(int))\n",
    "    for i in range(len(nucleotides)):\n",
    "        for j in range(len(nucleotides)):\n",
    "            x = min(nucleotides[i], nucleotides[j])\n",
    "            y = max(nucleotides[i], nucleotides[j])\n",
    "            result[nucleotides[i]][nucleotides[j]] = scores[(x, y)]\n",
    "    for key in result.keys():\n",
    "        result[key] = dict(result[key])\n",
    "    return dict(result)"
   ]
  },
  {
   "cell_type": "code",
   "source": [
    "blosum_matrix = create_blosum_matrix(scores, nucleotides)\n",
    "blosum_matrix"
   ],
   "metadata": {
    "colab": {
     "base_uri": "https://localhost:8080/"
    },
    "id": "pIcSp2nB8Obm",
    "outputId": "8b6ba2d2-c123-447d-96a9-000b3566c913"
   },
   "id": "pIcSp2nB8Obm",
   "execution_count": 15,
   "outputs": [
    {
     "output_type": "execute_result",
     "data": {
      "text/plain": [
       "{'A': {'A': 5, 'G': 1, 'C': -1, 'T': -4},\n",
       " 'G': {'A': 1, 'G': 5, 'C': 0, 'T': -1},\n",
       " 'C': {'A': -1, 'G': 0, 'C': 3, 'T': -4},\n",
       " 'T': {'A': -4, 'G': -1, 'C': -4, 'T': 6}}"
      ]
     },
     "metadata": {},
     "execution_count": 15
    }
   ]
  },
  {
   "cell_type": "markdown",
   "id": "f3b9efbe",
   "metadata": {
    "ExecuteTime": {
     "end_time": "2024-09-19T07:55:20.436835Z",
     "start_time": "2024-09-19T07:55:20.420618Z"
    },
    "id": "f3b9efbe"
   },
   "source": [
    "### Шаг 4.2: Вывод матрицы\n",
    "\n",
    "- Выведите матрицу BLOSUM в удобочитаемом формате, например, как таблицу с заголовками.\n",
    "\n",
    "**Пример:**\n",
    "\n",
    "```python\n",
    "print_blosum_matrix(blosum_matrix, nucleotides)\n",
    "    A   G   C   T\n",
    "A   5   1   0  -3\n",
    "G   1   5   0   0\n",
    "C   0   0   3  -3\n",
    "T  -3   0  -3   6\n",
    "```"
   ]
  },
  {
   "cell_type": "code",
   "execution_count": 18,
   "id": "93ee6754",
   "metadata": {
    "ExecuteTime": {
     "end_time": "2024-09-20T07:50:02.894882Z",
     "start_time": "2024-09-20T07:50:02.881450Z"
    },
    "id": "93ee6754"
   },
   "outputs": [],
   "source": [
    "def print_blosum_matrix(blosum_matrix, nucleotides):\n",
    "    header = \"    \" + \"   \".join(nucleotides)\n",
    "    print(header)\n",
    "    for nuc in nucleotides:\n",
    "        row = f\"{nuc}\"\n",
    "        for target in nucleotides:\n",
    "            row += f\"{blosum_matrix[nuc][target]:>4}\"\n",
    "        print(row)"
   ]
  },
  {
   "cell_type": "code",
   "source": [
    "print_blosum_matrix(blosum_matrix, nucleotides)"
   ],
   "metadata": {
    "colab": {
     "base_uri": "https://localhost:8080/"
    },
    "id": "WLqFVLhlDaTu",
    "outputId": "d81b34ba-714d-4244-8b82-ef0617d28ebf"
   },
   "id": "WLqFVLhlDaTu",
   "execution_count": 19,
   "outputs": [
    {
     "output_type": "stream",
     "name": "stdout",
     "text": [
      "    A   G   C   T\n",
      "A   5   1  -1  -4\n",
      "G   1   5   0  -1\n",
      "C  -1   0   3  -4\n",
      "T  -4  -1  -4   6\n"
     ]
    }
   ]
  },
  {
   "cell_type": "markdown",
   "id": "990c0c7a",
   "metadata": {
    "id": "990c0c7a"
   },
   "source": [
    "## Визуализация результатов\n",
    "\n",
    "Запустите код для визуализации результатов. Потребуется установить пакеты через `pip install numpy`"
   ]
  },
  {
   "cell_type": "code",
   "execution_count": 20,
   "id": "e6dc51ef",
   "metadata": {
    "ExecuteTime": {
     "end_time": "2024-09-20T07:50:05.193727Z",
     "start_time": "2024-09-20T07:50:05.053305Z"
    },
    "colab": {
     "base_uri": "https://localhost:8080/",
     "height": 699
    },
    "id": "e6dc51ef",
    "outputId": "b8c39475-349d-4fa2-c3f4-ec66a3bc2934"
   },
   "outputs": [
    {
     "output_type": "display_data",
     "data": {
      "text/plain": [
       "<Figure size 1000x800 with 2 Axes>"
      ],
      "image/png": "[encoded data removed]"
     },
     "metadata": {}
    }
   ],
   "source": [
    "import numpy as np\n",
    "import seaborn as sns\n",
    "import matplotlib.pyplot as plt\n",
    "\n",
    "\n",
    "def visualize_blosum_matrix(matrix, nucleotides):\n",
    "    data = np.array([[matrix[x][y] for y in nucleotides] for x in nucleotides])\n",
    "    plt.figure(figsize=(10, 8))\n",
    "    sns.heatmap(data, xticklabels=nucleotides, yticklabels=nucleotides, annot=True, cmap=\"coolwarm\")\n",
    "    plt.title(\"Матрица BLOSUM\")\n",
    "    plt.show()\n",
    "\n",
    "\n",
    "# Пример использования\n",
    "visualize_blosum_matrix(blosum_matrix, nucleotides)"
   ]
  },
  {
   "cell_type": "markdown",
   "id": "ea3ccc74",
   "metadata": {
    "id": "ea3ccc74"
   },
   "source": [
    "# Реализация алгоритма Нидлмана-Вунша"
   ]
  },
  {
   "cell_type": "markdown",
   "id": "5c4b370c",
   "metadata": {
    "id": "5c4b370c"
   },
   "source": [
    "### Шаг 5: Инициализация матрицы динамического программирования\n",
    "\n",
    "Теперь перейдём к реализации алгоритма [Нидлмана-Вунша](https://en.wikipedia.org/wiki/Needleman%E2%80%93Wunsch_algorithm).\n",
    "\n",
    "Реализуйте функцию `init`, которая по $m, n$ и ошибке $\\sigma$ строит матрицу c $m + 1$ строкой и $n + 1$ столбцом:\n",
    "\n",
    "$$A_{m,n} = \\begin{pmatrix} 0 & -\\sigma & \\cdots & -n \\sigma \\\\ -\\sigma & 0 & \\cdots & 0 \\\\ \\vdots & \\vdots & \\ddots & \\vdots \\\\ -m\\sigma & 0 & \\cdots & 0 \\end{pmatrix} $$\n",
    "\n",
    "**Пример:**\n",
    "\n",
    "```python\n",
    "print(init(3, 3, 4))\n",
    "[[0, -4, -8, -12], [-4, 0, 0, 0], [-8, 0, 0, 0], [-12, 0, 0, 0]]\n",
    "```"
   ]
  },
  {
   "cell_type": "code",
   "execution_count": 21,
   "id": "c283ca17",
   "metadata": {
    "ExecuteTime": {
     "end_time": "2024-09-20T07:42:13.891859Z",
     "start_time": "2024-09-20T07:42:13.889917Z"
    },
    "id": "c283ca17"
   },
   "outputs": [],
   "source": [
    "def init(rows, cols, gap_penalty=10):\n",
    "    result = [[-i * gap_penalty if j == 0 else -j * gap_penalty if i == 0 else 0 for i in range(cols + 1)]\n",
    "              for j in range(rows + 1)]\n",
    "    return result"
   ]
  },
  {
   "cell_type": "code",
   "source": [
    "print(init(3, 3, 4))"
   ],
   "metadata": {
    "colab": {
     "base_uri": "https://localhost:8080/"
    },
    "id": "wVReJ0oHBGM4",
    "outputId": "c5b649e0-5ea1-4f5b-a3bb-e31549199b36"
   },
   "id": "wVReJ0oHBGM4",
   "execution_count": 22,
   "outputs": [
    {
     "output_type": "stream",
     "name": "stdout",
     "text": [
      "[[0, -4, -8, -12], [-4, 0, 0, 0], [-8, 0, 0, 0], [-12, 0, 0, 0]]\n"
     ]
    }
   ]
  },
  {
   "cell_type": "markdown",
   "id": "bfeb18d8",
   "metadata": {
    "ExecuteTime": {
     "end_time": "2024-09-20T05:07:36.025808Z",
     "start_time": "2024-09-20T05:07:36.015828Z"
    },
    "id": "bfeb18d8"
   },
   "source": [
    "### Шаг 6: Заполнение матрицы динамического программирования"
   ]
  },
  {
   "cell_type": "markdown",
   "id": "6cf519aa",
   "metadata": {
    "id": "6cf519aa"
   },
   "source": [
    "Пусть `a` и `b` - две последовательности, которые хотим выравнять. Теперь имея пустую матрицу, нужно научиться её заполнять. Для этого вспомним, как вычисляется очередной элемент матрицы:\n",
    "\n",
    "$$A_{i \\ j} = max \\begin{cases} A_{i-1 \\ j-1} + s(a_{i},b_{j}) & \\ \\text{Match / Mismatch}\\\\ A_{i \\ j-1} - \\sigma & \\ \\text{Insertion} \\\\ A_{i-1\\ j} - \\sigma & \\ \\text{Deletion} \\end{cases}$$\n",
    "\n",
    "где $s(a_{i},b_{j})$ - значение матрицы BLOSUM для нуклеотидов $a_{i}$ и $b_{j}$, $\\sigma$ - штраф за пропуск символа в выравнивании (параметр)"
   ]
  },
  {
   "cell_type": "markdown",
   "id": "29cceaaf",
   "metadata": {
    "id": "29cceaaf"
   },
   "source": [
    "### Шаг 7: Вычисление значения матрицы"
   ]
  },
  {
   "cell_type": "markdown",
   "id": "13d9795b",
   "metadata": {
    "id": "13d9795b"
   },
   "source": [
    "Реализуйте функцию `get_new_score`, которая принимает на вход 5 параметров - `up` ($A_{i-1\\ j}$), `left` ($A_{i \\ j-1}$), `middle` ($A_{i-1 \\ j-1}$), `s_score` ($s(a_{i},b_{j})$), `gap_penalty` ($\\sigma$), и вычисляет значение для матрицы $A_{i\\ j}$\n",
    "\n",
    "**Пример:**\n",
    "\n",
    "```python\n",
    "print(get_new_score(0, 10, 2, 0, 2))\n",
    "8\n",
    "print(get_new_score(-16, -7, -14, 0, 2))\n",
    "-9\n",
    "```"
   ]
  },
  {
   "cell_type": "code",
   "execution_count": 23,
   "id": "6aba390b",
   "metadata": {
    "ExecuteTime": {
     "end_time": "2024-09-20T07:42:13.901858Z",
     "start_time": "2024-09-20T07:42:13.899848Z"
    },
    "id": "6aba390b"
   },
   "outputs": [],
   "source": [
    "def get_new_score(up, left, middle, s_score, gap_penalty):\n",
    "    return max(middle + s_score, left - gap_penalty, up - gap_penalty)"
   ]
  },
  {
   "cell_type": "code",
   "source": [
    "print(get_new_score(0, 10, 2, 0, 2))"
   ],
   "metadata": {
    "colab": {
     "base_uri": "https://localhost:8080/"
    },
    "id": "HOzGoGRZdk61",
    "outputId": "b7e01c8d-e6d9-4540-bea3-613cb622633a"
   },
   "id": "HOzGoGRZdk61",
   "execution_count": 24,
   "outputs": [
    {
     "output_type": "stream",
     "name": "stdout",
     "text": [
      "8\n"
     ]
    }
   ]
  },
  {
   "cell_type": "code",
   "source": [
    "print(get_new_score(-16, -7, -14, 0, 2))"
   ],
   "metadata": {
    "colab": {
     "base_uri": "https://localhost:8080/"
    },
    "id": "uIxxEpk2dpk3",
    "outputId": "65dbdc17-3857-4960-95ba-fcff88bf992a"
   },
   "id": "uIxxEpk2dpk3",
   "execution_count": 25,
   "outputs": [
    {
     "output_type": "stream",
     "name": "stdout",
     "text": [
      "-9\n"
     ]
    }
   ]
  },
  {
   "cell_type": "markdown",
   "id": "c4efe8f2",
   "metadata": {
    "id": "c4efe8f2"
   },
   "source": [
    "### Шаг 8 Заполнение матрицы"
   ]
  },
  {
   "cell_type": "markdown",
   "id": "2139631a",
   "metadata": {
    "id": "2139631a"
   },
   "source": [
    "Реализуйте функцию `align`,  которая на вход принимает две последовательности ДНК, штраф за пропуск ($\\sigma$), матрицу BLOSUM и возвращает заполненную матрицу `A`.\n",
    "\n",
    "**Пример:**\n",
    "\n",
    "```python\n",
    "top_seq = \"AGTACGCA\"\n",
    "bottom_seq = \"TATGC\"\n",
    "gap_penalty = 2\n",
    "\n",
    "print(align(top_seq, bottom_seq, gap_penalty, blosum_matrix))\n",
    "[[0, -2, -4, -6, -8, -10, -12, -14, -16],\n",
    " [-2, -1, -2, 2, 0, -2, -4, -6, -8],\n",
    " [-4, 2, 0, 0, 6, 4, 2, 0, -2],\n",
    " [-6, 0, 2, 6, 4, 4, 4, 2, 0],\n",
    " [-8, -2, 4, 4, 7, 5, 8, 6, 4],\n",
    " [-10, -4, 2, 2, 5, 9, 7, 10, 8]]\n",
    "```"
   ]
  },
  {
   "cell_type": "code",
   "execution_count": 26,
   "id": "889554a2",
   "metadata": {
    "ExecuteTime": {
     "end_time": "2024-09-20T07:42:13.907603Z",
     "start_time": "2024-09-20T07:42:13.906050Z"
    },
    "id": "889554a2"
   },
   "outputs": [],
   "source": [
    "top_seq = \"AGTACGCA\"\n",
    "bottom_seq = \"TATGC\"\n",
    "gap_penalty = 2"
   ]
  },
  {
   "cell_type": "code",
   "execution_count": 27,
   "id": "e2f22469",
   "metadata": {
    "ExecuteTime": {
     "end_time": "2024-09-20T07:42:13.914057Z",
     "start_time": "2024-09-20T07:42:13.908397Z"
    },
    "id": "e2f22469"
   },
   "outputs": [],
   "source": [
    "def align(top_seq, bottom_seq, gap_penalty, blosum_matrix):\n",
    "    cols = len(top_seq)\n",
    "    rows = len(bottom_seq)\n",
    "    result = init(rows, cols, gap_penalty)\n",
    "    for i in range(1, rows + 1):\n",
    "        for j in range(1, cols + 1):\n",
    "            result[i][j] = i + j\n",
    "            up = result[i - 1][j]\n",
    "            left = result[i][j - 1]\n",
    "            middle = result[i - 1][j - 1]\n",
    "            a_i = top_seq[j - 1]\n",
    "            b_j = bottom_seq[i - 1]\n",
    "            s_score = blosum_matrix[a_i][b_j]\n",
    "            result[i][j] = get_new_score(up, left, middle, s_score, gap_penalty)\n",
    "    return result"
   ]
  },
  {
   "cell_type": "code",
   "source": [
    "print(align(top_seq, bottom_seq, gap_penalty, blosum_matrix))"
   ],
   "metadata": {
    "colab": {
     "base_uri": "https://localhost:8080/"
    },
    "id": "hf8ePdG_kEXb",
    "outputId": "dcfaf197-d073-4a12-d28a-790b933a6d6a"
   },
   "id": "hf8ePdG_kEXb",
   "execution_count": 28,
   "outputs": [
    {
     "output_type": "stream",
     "name": "stdout",
     "text": [
      "[[0, -2, -4, -6, -8, -10, -12, -14, -16], [-2, -4, -3, 2, 0, -2, -4, -6, -8], [-4, 3, 1, 0, 7, 5, 3, 1, -1], [-6, 1, 2, 7, 5, 3, 4, 2, 0], [-8, -1, 6, 5, 8, 6, 8, 6, 4], [-10, -3, 4, 3, 6, 11, 9, 11, 9]]\n"
     ]
    }
   ]
  },
  {
   "cell_type": "markdown",
   "id": "f68198b6",
   "metadata": {
    "ExecuteTime": {
     "end_time": "2024-09-20T06:44:17.331762Z",
     "start_time": "2024-09-20T06:44:17.321308Z"
    },
    "id": "f68198b6"
   },
   "source": [
    "### Шаг 9: Построение выравнивания\n",
    "\n",
    "Теперь имея матрицу выравнивания построим самое выравнивание.\n",
    "\n",
    "Реализуйте функцию get_alignment, которая по двум последовательностям, матрице выравнивания, штрафа за пропуски, бонусам за совпадение/несовпадение нуклеотидов строит выравнивание.\n",
    "\n",
    "**Пример:**\n",
    "\n",
    "```python\n",
    "top_seq = \"AGTACGCA\"\n",
    "bottom_seq = \"TATGC\"\n",
    "gap_penalty = 2\n",
    "sm = align(top_seq, bottom_seq, gap_penalty, blosum_matrix)\n",
    "aligns = get_alignment(top_seq, bottom_seq, sm, gap_penalty, blosum_matrix)\n",
    "print(aligns[0])\n",
    "print(aligns[1])\n",
    "--TATGC-\n",
    "AGTACGCA\n",
    "\n",
    "top_seq = \"AGTCTCCCCC\"\n",
    "bottom_seq = \"ACTTCTACCCCAGC\"\n",
    "sm = align(top_seq, bottom_seq, gap_penalty, blosum_matrix)\n",
    "aligns = get_alignment(top_seq, bottom_seq, sm, gap_penalty, blosum_matrix)\n",
    "print(aligns[0])\n",
    "print(aligns[1])\n",
    "ACTTCTACCCCAGC\n",
    "AGT-CT-CCCC--C\n",
    "```"
   ]
  },
  {
   "cell_type": "code",
   "execution_count": 29,
   "id": "4449d97e",
   "metadata": {
    "ExecuteTime": {
     "end_time": "2024-09-20T07:42:13.929902Z",
     "start_time": "2024-09-20T07:42:13.928023Z"
    },
    "id": "4449d97e"
   },
   "outputs": [],
   "source": [
    "def get_alignment(top_seq, bottom_seq, sm, gap_penalty, blosum_matrix):\n",
    "    i = len(bottom_seq)\n",
    "    j = len(top_seq)\n",
    "    aligned_top = []\n",
    "    aligned_bottom = []\n",
    "\n",
    "    while i > 0 or j > 0:\n",
    "        a_i = top_seq[j - 1]\n",
    "        b_j = bottom_seq[i - 1]\n",
    "        s_score = blosum_matrix[a_i][b_j]\n",
    "\n",
    "        if i > 0 and j > 0 and sm[i][j] == sm[i - 1][j - 1] + s_score:\n",
    "            aligned_top.append(top_seq[j - 1])\n",
    "            aligned_bottom.append(bottom_seq[i - 1])\n",
    "            i -= 1\n",
    "            j -= 1\n",
    "        elif j > 0 and sm[i][j] == sm[i][j - 1] - gap_penalty:\n",
    "            aligned_top.append(top_seq[j - 1])\n",
    "            aligned_bottom.append('-')\n",
    "            j -= 1\n",
    "        else:\n",
    "            aligned_top.append('-')\n",
    "            aligned_bottom.append(bottom_seq[i - 1])\n",
    "            i -= 1\n",
    "\n",
    "    return ''.join(reversed(aligned_top)), ''.join(reversed(aligned_bottom))"
   ]
  },
  {
   "cell_type": "code",
   "source": [
    "top_seq = \"AGTACGCA\"\n",
    "bottom_seq = \"TATGC\"\n",
    "gap_penalty = 2\n",
    "sm = align(top_seq, bottom_seq, gap_penalty, blosum_matrix)\n",
    "aligns = get_alignment(top_seq, bottom_seq, sm, gap_penalty, blosum_matrix)\n",
    "print(aligns[0])\n",
    "print(aligns[1])"
   ],
   "metadata": {
    "colab": {
     "base_uri": "https://localhost:8080/"
    },
    "id": "o5wTwe3qc8Lz",
    "outputId": "00aeda86-1b4d-4737-d8d3-bfa3246a73cb"
   },
   "id": "o5wTwe3qc8Lz",
   "execution_count": 30,
   "outputs": [
    {
     "output_type": "stream",
     "name": "stdout",
     "text": [
      "AGTACGCA\n",
      "--TATGC-\n"
     ]
    }
   ]
  },
  {
   "cell_type": "code",
   "source": [
    "top_seq = \"AGTCTCCCCC\"\n",
    "bottom_seq = \"ACTTCTACCCCAGC\"\n",
    "sm = align(top_seq, bottom_seq, gap_penalty, blosum_matrix)\n",
    "aligns = get_alignment(top_seq, bottom_seq, sm, gap_penalty, blosum_matrix)\n",
    "print(aligns[0])\n",
    "print(aligns[1])"
   ],
   "metadata": {
    "colab": {
     "base_uri": "https://localhost:8080/"
    },
    "id": "w71-TpEZc9yN",
    "outputId": "a039b671-07f3-4f5c-b531-6b1ef84f77be"
   },
   "id": "w71-TpEZc9yN",
   "execution_count": 31,
   "outputs": [
    {
     "output_type": "stream",
     "name": "stdout",
     "text": [
      "AG-TCT-CCCC--C\n",
      "ACTTCTACCCCAGC\n"
     ]
    }
   ]
  },
  {
   "cell_type": "markdown",
   "id": "0c8daed3",
   "metadata": {
    "ExecuteTime": {
     "end_time": "2024-09-20T08:00:23.468052Z",
     "start_time": "2024-09-20T08:00:23.453507Z"
    },
    "id": "0c8daed3"
   },
   "source": [
    "## Поздравляю! Мы научились выравнивать ДНК!"
   ]
  }
 ],
 "metadata": {
  "kernelspec": {
   "display_name": "Python 3 (ipykernel)",
   "language": "python",
   "name": "python3"
  },
  "language_info": {
   "codemirror_mode": {
    "name": "ipython",
    "version": 3
   },
   "file_extension": ".py",
   "mimetype": "text/x-python",
   "name": "python",
   "nbconvert_exporter": "python",
   "pygments_lexer": "ipython3",
   "version": "3.9.7"
  },
  "colab": {
   "provenance": []
  }
 },
 "nbformat": 4,
 "nbformat_minor": 5
}
