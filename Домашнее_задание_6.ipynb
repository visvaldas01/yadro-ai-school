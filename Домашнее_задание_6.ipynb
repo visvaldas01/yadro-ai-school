{
 "cells": [
  {
   "cell_type": "markdown",
   "source": [
    "Антонов Всеволод Владимирович\n",
    "\n",
    "---\n"
   ],
   "metadata": {
    "id": "_VkOEU82_k5O"
   },
   "id": "_VkOEU82_k5O"
  },
  {
   "cell_type": "markdown",
   "id": "4feb6bdc",
   "metadata": {
    "id": "4feb6bdc"
   },
   "source": [
    "# Итераторы"
   ]
  },
  {
   "cell_type": "markdown",
   "id": "4b6631bd",
   "metadata": {
    "id": "4b6631bd"
   },
   "source": [
    "## Порядок сдачи домашнего"
   ]
  },
  {
   "cell_type": "markdown",
   "id": "bee4fcc0",
   "metadata": {
    "id": "bee4fcc0"
   },
   "source": [
    "Под каждое домашнее вы создаете отдельную ветку куда вносите все изменения в рамках домашнего. Как только домашнее готово - создаете пулл реквест (обратите внимание что в пулл реквесте должны быть отражены все изменения в рамках домашнего). Ревьювера назначаете из таблицы - https://docs.google.com/spreadsheets/d/1vK6IgEqaqXniUJAQOOspiL_tx3EYTSXW1cUrMHAZFr8/edit?gid=0#gid=0\n",
    "Перед сдачей проверьте код, напишите тесты. Не забудьте про PEP8, например, с помощью flake8. Задание нужно делать в jupyter notebook.\n",
    "\n",
    "**Дедлайн - 11 ноября 10:00**"
   ]
  },
  {
   "cell_type": "markdown",
   "id": "d777f71d",
   "metadata": {
    "ExecuteTime": {
     "end_time": "2024-11-03T13:46:28.412754Z",
     "start_time": "2024-11-03T13:46:28.400723Z"
    },
    "id": "d777f71d"
   },
   "source": [
    "## Итератор по цифрам"
   ]
  },
  {
   "cell_type": "markdown",
   "id": "0e691ab8",
   "metadata": {
    "id": "0e691ab8"
   },
   "source": [
    "Реализуйте класс-итератор `DigitIterator`, который принимает на вход целое число и позволяет итерироваться по его цифрам слева направо. На каждой итерации должна возвращаться следующая цифра числа.\n",
    "\n",
    "**Условия:**\n",
    "1.\tЧисло может быть как положительным, так и отрицательным.\n",
    "2.\tИтератор должен возвращать только цифры числа, без знака - для отрицательных чисел.\n",
    "3.\tИтерация должна быть возможна с помощью цикла for или функции next().\n",
    "\n",
    "**Пример использования:**\n",
    "\n",
    "```python\n",
    "iterator = DigitIterator(12345)\n",
    "for digit in iterator:\n",
    "    print(digit)\n",
    "# 1\n",
    "# 2\n",
    "# 3\n",
    "# 4\n",
    "# 5\n",
    "\n",
    "iterator = DigitIterator(-6789)\n",
    "for digit in iterator:\n",
    "    print(digit)\n",
    "\n",
    "# 6\n",
    "# 7\n",
    "# 8\n",
    "# 9\n",
    "```"
   ]
  },
  {
   "cell_type": "code",
   "execution_count": null,
   "id": "8456ac6e",
   "metadata": {
    "colab": {
     "base_uri": "https://localhost:8080/"
    },
    "id": "8456ac6e",
    "outputId": "a6305afe-131b-49ba-893a-c456fd103138"
   },
   "outputs": [
    {
     "output_type": "stream",
     "name": "stdout",
     "text": [
      "1\n",
      "2\n",
      "3\n",
      "4\n",
      "5\n"
     ]
    }
   ],
   "source": [
    "class DigitIterator:\n",
    "    def __init__(self, n):\n",
    "        self.n_str = str(abs(n))\n",
    "        self.ind = 0\n",
    "\n",
    "    def __iter__(self):\n",
    "        return self\n",
    "\n",
    "    def __next__(self):\n",
    "        if self.ind < len(self.n_str):\n",
    "            dig = int(self.n_str[self.ind])\n",
    "            self.ind += 1\n",
    "            return dig\n",
    "        else:\n",
    "            raise StopIteration\n",
    "\n",
    "\n",
    "# Пример использования\n",
    "iterator = DigitIterator(12345)\n",
    "for digit in iterator:\n",
    "    print(digit)"
   ]
  },
  {
   "cell_type": "code",
   "source": [
    "iterator = DigitIterator(-6789)\n",
    "for digit in iterator:\n",
    "    print(digit)"
   ],
   "metadata": {
    "colab": {
     "base_uri": "https://localhost:8080/"
    },
    "id": "7rzlR3TWgeS9",
    "outputId": "a55cc08a-71bb-4523-dd90-cc82e01547c2"
   },
   "id": "7rzlR3TWgeS9",
   "execution_count": null,
   "outputs": [
    {
     "output_type": "stream",
     "name": "stdout",
     "text": [
      "6\n",
      "7\n",
      "8\n",
      "9\n"
     ]
    }
   ]
  },
  {
   "cell_type": "markdown",
   "id": "524f2c81",
   "metadata": {
    "id": "524f2c81"
   },
   "source": [
    "# Итератор по файлу чанками"
   ]
  },
  {
   "cell_type": "markdown",
   "id": "b8beef88",
   "metadata": {
    "id": "b8beef88"
   },
   "source": [
    "Реализуйте класс-итератор `FileChunkIterator`, который принимает на вход путь к файлу и количество байт для чтения. Итератор должен открывать файл и считывать его содержимое блоками фиксированного размера (количества байт), переданного в качестве параметра. При каждой итерации возвращается следующий блок байт, пока не будет достигнут конец файла.\n",
    "\n",
    "**Условия:**\n",
    "1.\tИтератор должен открывать файл в режиме чтения бинарных данных (rb).\n",
    "2.\tРазмер блока (количество байт) передаётся при создании итератора.\n",
    "3.\tЕсли в конце файла остаётся блок меньшего размера, итератор должен вернуть оставшиеся байты.\n",
    "4.\tПри достижении конца файла итератор должен завершить работу, поднимая StopIteration.\n",
    "\n",
    "**Пример использования:**\n",
    "```python\n",
    "with open(\"example.txt\", \"w\") as file:\n",
    "    file.write(\"Hello world!!\")\n",
    "    \n",
    "iterator = FileChunkIterator(\"example.txt\", 2)\n",
    "for chunk in iterator:\n",
    "    print(chunk)\n",
    "# He\n",
    "# ll\n",
    "# o\n",
    "# wo\n",
    "# rl\n",
    "# d!\n",
    "# !\n",
    "```"
   ]
  },
  {
   "cell_type": "code",
   "execution_count": 4,
   "id": "60907399",
   "metadata": {
    "id": "60907399"
   },
   "outputs": [],
   "source": [
    "class FileChunkIterator:\n",
    "    def __init__(self, filename, ch_size):\n",
    "        self.filename = filename\n",
    "        self.ch_size = ch_size\n",
    "        self.file = open(self.filename, 'rb')\n",
    "\n",
    "    def __iter__(self):\n",
    "        return self\n",
    "\n",
    "    def __next__(self):\n",
    "        chunk = self.file.read(self.ch_size)\n",
    "        if not chunk:\n",
    "            self.file.close()\n",
    "            raise StopIteration\n",
    "        return chunk.decode(\"utf-8\")"
   ]
  },
  {
   "cell_type": "code",
   "execution_count": 9,
   "id": "536a3dbc",
   "metadata": {
    "ExecuteTime": {
     "end_time": "2024-11-03T15:39:29.153309Z",
     "start_time": "2024-11-03T15:39:29.131086Z"
    },
    "id": "536a3dbc"
   },
   "outputs": [],
   "source": [
    "with open(\"example.txt\", \"w\") as file:\n",
    "    file.write(\"Hello world!!\")"
   ]
  },
  {
   "cell_type": "code",
   "source": [
    "iterator = FileChunkIterator(\"example.txt\", 2)\n",
    "for chunk in iterator:\n",
    "    print(chunk)\n",
    "# He\n",
    "# ll\n",
    "# o\n",
    "# wo\n",
    "# rl\n",
    "# d!\n",
    "# !"
   ],
   "metadata": {
    "colab": {
     "base_uri": "https://localhost:8080/"
    },
    "id": "ePe8kImeqQcE",
    "outputId": "54e4a5b5-ca05-4a5c-b119-d942f6294b6c"
   },
   "id": "ePe8kImeqQcE",
   "execution_count": 10,
   "outputs": [
    {
     "output_type": "stream",
     "name": "stdout",
     "text": [
      "He\n",
      "ll\n",
      "o \n",
      "wo\n",
      "rl\n",
      "d!\n",
      "!\n"
     ]
    }
   ]
  },
  {
   "cell_type": "markdown",
   "id": "0985c955",
   "metadata": {
    "id": "0985c955"
   },
   "source": [
    "# Итератор по подматрицам"
   ]
  },
  {
   "cell_type": "markdown",
   "id": "6dacea80",
   "metadata": {
    "id": "6dacea80"
   },
   "source": [
    "Реализуйте класс-итератор `SubmatrixIterator`, который принимает на вход матрицу и размер подматрицы (квадратного блока). Итератор должен проходить по всем возможным подматрицам указанного размера и возвращать их одну за другой.\n",
    "\n",
    "**Пример использования:**\n",
    "\n",
    "```python\n",
    "matrix = [\n",
    "    [1, 2, 3, 4],\n",
    "    [5, 6, 7, 8],\n",
    "    [9, 10, 11, 12],\n",
    "    [13, 14, 15, 16]\n",
    "]\n",
    "iterator = SubmatrixIterator(matrix, 2)\n",
    "for submatrix in iterator:\n",
    "    print(submatrix)\n",
    "    \n",
    "# [[1, 2], [5, 6]]\n",
    "# [[2, 3], [6, 7]]\n",
    "# [[3, 4], [7, 8]]\n",
    "# [[5, 6], [9, 10]]\n",
    "# [[6, 7], [10, 11]]\n",
    "# [[7, 8], [11, 12]]\n",
    "# [[9, 10], [13, 14]]\n",
    "# [[10, 11], [14, 15]]\n",
    "# [[11, 12], [15, 16]]\n",
    "```"
   ]
  },
  {
   "cell_type": "code",
   "execution_count": null,
   "id": "72631b5b",
   "metadata": {
    "id": "72631b5b"
   },
   "outputs": [],
   "source": [
    "class SubmatrixIterator:\n",
    "    def __init__(self, matrix, subm_size):\n",
    "        self.matrix = matrix\n",
    "        self.subm_size = subm_size\n",
    "        self.rows = len(matrix)\n",
    "        self.cols = len(matrix[0])\n",
    "        self.cur_row = 0\n",
    "        self.cur_col = 0\n",
    "\n",
    "    def __iter__(self):\n",
    "        return self\n",
    "\n",
    "    def __next__(self):\n",
    "        if self.rows < self.cur_row + self.subm_size:\n",
    "            raise StopIteration\n",
    "        subm = [[self.matrix[i][j]\n",
    "                 for j in range(self.cur_col, self.cur_col + self.subm_size)]\n",
    "                for i in range(self.cur_row, self.cur_row + self.subm_size)]\n",
    "        self.cur_col += 1\n",
    "        if self.cols < self.cur_col + self.subm_size:\n",
    "            self.cur_col = 0\n",
    "            self.cur_row += 1\n",
    "        return subm"
   ]
  },
  {
   "cell_type": "code",
   "source": [
    "matrix = [\n",
    "    [1, 2, 3, 4],\n",
    "    [5, 6, 7, 8],\n",
    "    [9, 10, 11, 12],\n",
    "    [13, 14, 15, 16]\n",
    "]\n",
    "iterator = SubmatrixIterator(matrix, 2)\n",
    "for submatrix in iterator:\n",
    "    print(submatrix)\n",
    "\n",
    "# [[1, 2], [5, 6]]\n",
    "# [[2, 3], [6, 7]]\n",
    "# [[3, 4], [7, 8]]\n",
    "# [[5, 6], [9, 10]]\n",
    "# [[6, 7], [10, 11]]\n",
    "# [[7, 8], [11, 12]]\n",
    "# [[9, 10], [13, 14]]\n",
    "# [[10, 11], [14, 15]]\n",
    "# [[11, 12], [15, 16]]"
   ],
   "metadata": {
    "colab": {
     "base_uri": "https://localhost:8080/"
    },
    "id": "w1v1AZyxx68h",
    "outputId": "598aa909-b2f4-45a9-a291-80f0982448db"
   },
   "id": "w1v1AZyxx68h",
   "execution_count": null,
   "outputs": [
    {
     "output_type": "stream",
     "name": "stdout",
     "text": [
      "[[1, 2], [5, 6]]\n",
      "[[2, 3], [6, 7]]\n",
      "[[3, 4], [7, 8]]\n",
      "[[5, 6], [9, 10]]\n",
      "[[6, 7], [10, 11]]\n",
      "[[7, 8], [11, 12]]\n",
      "[[9, 10], [13, 14]]\n",
      "[[10, 11], [14, 15]]\n",
      "[[11, 12], [15, 16]]\n"
     ]
    }
   ]
  },
  {
   "cell_type": "markdown",
   "id": "f1ad35a0",
   "metadata": {
    "ExecuteTime": {
     "end_time": "2024-11-03T14:20:40.010708Z",
     "start_time": "2024-11-03T14:20:39.997523Z"
    },
    "id": "f1ad35a0"
   },
   "source": [
    "# Построчное чтение всех файлов в директории"
   ]
  },
  {
   "cell_type": "markdown",
   "id": "ca37eddc",
   "metadata": {
    "id": "ca37eddc"
   },
   "source": [
    "Реализуйте класс-итератор  `RecursiveFileLineIteratorNoHidden`, который принимает на вход путь к директории и рекурсивно проходит по всем файлам, включая файлы во вложенных директориях. Итератор должен возвращать строки из каждого файла построчно, игнорируя файлы и директории, названия которых начинаются с точки (.), т.е. скрытые файлы и папки.\n",
    "\n",
    "**Условия:**\n",
    "1.\tИтератор должен проходить по всем файлам в указанной директории и всех её поддиректориях, кроме тех, что начинаются с точки (.).\n",
    "2.\tИтератор должен возвращать строки из каждого файла поочерёдно, построчно.\n",
    "3.\tПоддерживаются только текстовые файлы.\n",
    "4.\tПосле завершения чтения всех файлов итератор должен завершить работу, поднимая StopIteration.\n",
    "5.\tОбработайте ситуацию, если файл не может быть открыт (например, из-за ошибок доступа).\n",
    "\n",
    "**Пример использования:**\n",
    "\n",
    "```python\n",
    "iterator = RecursiveFileLineIteratorNoHidden(\"./test\")\n",
    "for line in iterator:\n",
    "    print(line)\n",
    "    \n",
    "# Example 1\n",
    "# Example 2\n",
    "# Example 3\n",
    "# Example 4\n",
    "# Subfolder Example 1\n",
    "# Subfolder Example 2\n",
    "# Subfolder Example 3\n",
    "# Subfolder Example 4    \n",
    "```\n",
    "\n",
    "Для выполнения задания потребуются несколько методов из модуля os, которые позволяют работать с файловой системой в Python. Давайте подробно рассмотрим их.\n",
    "\n",
    "\n",
    "`os.walk(top, topdown=True, onerror=None, followlinks=False)` — это генератор, который рекурсивно обходит директории и поддиректории, начиная с указанного пути top. На каждом шаге возвращается кортеж, содержащий текущую директорию, список поддиректорий и список файлов.\n",
    "\n",
    "Возвращаемые значения:\n",
    "* root: Текущая директория, в которой находимся в данный момент обхода.\n",
    "* dirs: Список поддиректорий в текущей root директории.\n",
    "* files: Список файлов в текущей root директории.\n",
    "\n",
    "`os.path.join(path, *paths)` объединяет один или несколько компонентов пути, возвращая корректный путь, соответствующий операционной системе. Это полезно для построения путей к файлам и директориям в кросс-платформенном формате.\n",
    "\n",
    "```python\n",
    "root = \"/path/to/directory\"\n",
    "file_name = \"example.txt\"\n",
    "full_path = os.path.join(root, file_name)\n",
    "print(full_path)  # Вывод: \"/path/to/directory/example.txt\"\n",
    "```\n",
    "\n",
    "`os.path.isfile(path)` проверяет, является ли указанный путь файлом. Возвращает True, если path указывает на файл, и False, если это директория или объект другого типа.\n",
    "\n",
    "```python\n",
    "file_path = \"/path/to/file.txt\"\n",
    "if os.path.isfile(file_path):\n",
    "    print(\"Это файл.\")\n",
    "else:\n",
    "    print(\"Это не файл.\")\n",
    "```\n",
    "\n",
    "`os.path.basename(path)` возвращает базовое имя файла или директории из пути. Это полезно, если нужно получить только имя файла или папки, без остальных компонентов пути.\n",
    "\n",
    "```python\n",
    "file_path = \"/path/to/file.txt\"\n",
    "print(os.path.basename(file_path))  # Вывод: \"file.txt\"\n",
    "```\n",
    "\n",
    "`os.path.isdir(path)` проверяет, является ли указанный путь директорией. Возвращает True, если path указывает на директорию, и False, если это файл или объект другого типа.\n",
    "\n",
    "```python\n",
    "dir_path = \"/path/to/directory\"\n",
    "if os.path.isdir(dir_path):\n",
    "    print(\"Это директория.\")\n",
    "else:\n",
    "    print(\"Это не директория.\")\n",
    "```"
   ]
  },
  {
   "cell_type": "code",
   "source": [
    "import os\n",
    "\n",
    "\n",
    "class RecursiveFileLineIteratorNoHidden:\n",
    "    def __init__(self, root):\n",
    "        self.root = root\n",
    "        self.file_iter = self._get_file_iter(self.root)\n",
    "        self.cur_file = None\n",
    "\n",
    "    def _get_file_iter(self, dir):\n",
    "        for root, dirs, files in os.walk(dir):\n",
    "            dirs[:] = [d for d in dirs if not d.startswith('.')]\n",
    "            for file in files:\n",
    "                if not file.startswith('.'):\n",
    "                    yield os.path.join(root, file)\n",
    "\n",
    "    def __iter__(self):\n",
    "        return self\n",
    "\n",
    "    def __next__(self):\n",
    "        while True:\n",
    "            if self.cur_file is None:\n",
    "                try:\n",
    "                    cur_file_path = next(self.file_iter)\n",
    "                    self.cur_file = open(cur_file_path, 'r', encoding='utf-8')\n",
    "                except StopIteration:\n",
    "                    raise StopIteration\n",
    "                except (OSError, IOError):\n",
    "                    self.cur_file = None\n",
    "                    continue\n",
    "\n",
    "            line = self.cur_file.readline()\n",
    "            if line:\n",
    "                return line.rstrip('\\n')\n",
    "            else:\n",
    "                self.cur_file.close()\n",
    "                self.cur_file = None\n"
   ],
   "metadata": {
    "id": "qfu2XMaW11Oq"
   },
   "id": "qfu2XMaW11Oq",
   "execution_count": 14,
   "outputs": []
  },
  {
   "cell_type": "code",
   "source": [
    "iterator = RecursiveFileLineIteratorNoHidden(\"./test\")\n",
    "for line in iterator:\n",
    "    print(line)\n",
    "\n",
    "# Example 1\n",
    "# Example 2\n",
    "# Example 3\n",
    "# Example 4\n",
    "# Subfolder Example 1\n",
    "# Subfolder Example 2\n",
    "# Subfolder Example 3\n",
    "# Subfolder Example 4"
   ],
   "metadata": {
    "colab": {
     "base_uri": "https://localhost:8080/"
    },
    "id": "Q1kNvPj1XAbv",
    "outputId": "12ab5019-8617-469a-ac54-40472fc520eb"
   },
   "id": "Q1kNvPj1XAbv",
   "execution_count": 15,
   "outputs": [
    {
     "output_type": "stream",
     "name": "stdout",
     "text": [
      "Example 1\n",
      "Example 2\n",
      "Example 3\n",
      "Example 4\n",
      "Subfolder Example 1\n",
      "Subfolder Example 2\n",
      "Subfolder Example 3\n",
      "Subfolder Example 4\n"
     ]
    }
   ]
  }
 ],
 "metadata": {
  "kernelspec": {
   "display_name": "Python 3 (ipykernel)",
   "language": "python",
   "name": "python3"
  },
  "language_info": {
   "codemirror_mode": {
    "name": "ipython",
    "version": 3
   },
   "file_extension": ".py",
   "mimetype": "text/x-python",
   "name": "python",
   "nbconvert_exporter": "python",
   "pygments_lexer": "ipython3",
   "version": "3.9.7"
  },
  "colab": {
   "provenance": []
  }
 },
 "nbformat": 4,
 "nbformat_minor": 5
}
